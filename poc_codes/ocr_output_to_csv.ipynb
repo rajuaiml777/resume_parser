{
 "cells": [
  {
   "cell_type": "code",
   "execution_count": 1,
   "id": "94a18ef2",
   "metadata": {},
   "outputs": [],
   "source": [
    "import pandas as pd\n",
    "import glob\n",
    "import re\n",
    "%pwd\n",
    "import json\n",
    "import os"
   ]
  },
  {
   "cell_type": "code",
   "execution_count": 79,
   "id": "92156ab3",
   "metadata": {},
   "outputs": [],
   "source": [
    "# path = 'F:/projects/ARP/OCR/ocr/80-100/*.txt'"
   ]
  },
  {
   "cell_type": "code",
   "execution_count": 80,
   "id": "5e31d146",
   "metadata": {},
   "outputs": [],
   "source": [
    "# files = glob.glob(path)"
   ]
  },
  {
   "cell_type": "code",
   "execution_count": 61,
   "id": "88569e90",
   "metadata": {},
   "outputs": [],
   "source": [
    "# print(files)"
   ]
  },
  {
   "cell_type": "code",
   "execution_count": 81,
   "id": "124579ae",
   "metadata": {},
   "outputs": [],
   "source": [
    "# texts = []\n",
    "# for file in files:\n",
    "#     with open(file, \"r\", encoding='utf-8') as fp:\n",
    "#         text = ''.join(fp.readlines())\n",
    "#         texts.append(text)"
   ]
  },
  {
   "cell_type": "code",
   "execution_count": 82,
   "id": "5019c1c3",
   "metadata": {},
   "outputs": [],
   "source": [
    "# pd.DataFrame(texts,columns=['texts']).to_csv(\"F:/projects/ARP/OCR/ocr/80-100/80-100.csv\",index=False)"
   ]
  },
  {
   "cell_type": "code",
   "execution_count": 126,
   "id": "2638615e",
   "metadata": {},
   "outputs": [],
   "source": [
    "dir = 'F:/projects/ARP/OCR/output2/331-356'"
   ]
  },
  {
   "cell_type": "code",
   "execution_count": 127,
   "id": "ba4042db",
   "metadata": {},
   "outputs": [],
   "source": [
    "r = []\n",
    "for root, dirs, files in os.walk(dir):\n",
    "    for name in files:\n",
    "        filepath = root + os.sep + name\n",
    "        if filepath.endswith(\".txt\"):\n",
    "            r.append(os.path.join(root, name))"
   ]
  },
  {
   "cell_type": "code",
   "execution_count": 128,
   "id": "1b8f999a",
   "metadata": {},
   "outputs": [],
   "source": [
    "texts = []\n",
    "for file in r:\n",
    "    with open(file, \"r\", encoding='utf-8') as fp:\n",
    "        text = ''.join(fp.readlines())\n",
    "        texts.append(text)"
   ]
  },
  {
   "cell_type": "code",
   "execution_count": 129,
   "id": "061edae2",
   "metadata": {},
   "outputs": [],
   "source": [
    "pd.DataFrame(texts,columns=['text']).to_csv(\"F:/projects/ARP/OCR/output2/331-356/331-356.csv\",index=False)"
   ]
  },
  {
   "cell_type": "code",
   "execution_count": 77,
   "id": "8d06736a",
   "metadata": {},
   "outputs": [],
   "source": [
    "df = pd.read_csv('F:/projects/ARP/OCR/ocr/all.csv')"
   ]
  },
  {
   "cell_type": "code",
   "execution_count": 78,
   "id": "77d146af",
   "metadata": {},
   "outputs": [
    {
     "data": {
      "text/html": [
       "<div>\n",
       "<style scoped>\n",
       "    .dataframe tbody tr th:only-of-type {\n",
       "        vertical-align: middle;\n",
       "    }\n",
       "\n",
       "    .dataframe tbody tr th {\n",
       "        vertical-align: top;\n",
       "    }\n",
       "\n",
       "    .dataframe thead th {\n",
       "        text-align: right;\n",
       "    }\n",
       "</style>\n",
       "<table border=\"1\" class=\"dataframe\">\n",
       "  <thead>\n",
       "    <tr style=\"text-align: right;\">\n",
       "      <th></th>\n",
       "      <th>text</th>\n",
       "    </tr>\n",
       "  </thead>\n",
       "  <tbody>\n",
       "    <tr>\n",
       "      <th>0</th>\n",
       "      <td>Soumen Mandal Sr. Design Consultant\\n\\nEducati...</td>\n",
       "    </tr>\n",
       "    <tr>\n",
       "      <th>1</th>\n",
       "      <td>Certification,Coursez Design Certified By: Cou...</td>\n",
       "    </tr>\n",
       "    <tr>\n",
       "      <th>2</th>\n",
       "      <td>PERSONAL DOSSIER,Date of Birth,30th May; 1990 ...</td>\n",
       "    </tr>\n",
       "    <tr>\n",
       "      <th>3</th>\n",
       "      <td>Sravan M ux/ui Designer\\n\\nEducation,Indian In...</td>\n",
       "    </tr>\n",
       "    <tr>\n",
       "      <th>4</th>\n",
       "      <td>EMPLOYMENT,Turito India Pvt Ltd FEB \"2021 HYDE...</td>\n",
       "    </tr>\n",
       "    <tr>\n",
       "      <th>...</th>\n",
       "      <td>...</td>\n",
       "    </tr>\n",
       "    <tr>\n",
       "      <th>108</th>\n",
       "      <td>EXPERIENCE: Wipro Technologies Pvt Ltd Hyderab...</td>\n",
       "    </tr>\n",
       "    <tr>\n",
       "      <th>109</th>\n",
       "      <td>Career Objective:,Looking for a challenging Io...</td>\n",
       "    </tr>\n",
       "    <tr>\n",
       "      <th>110</th>\n",
       "      <td>Summary passionate software engineer with 3+ y...</td>\n",
       "    </tr>\n",
       "    <tr>\n",
       "      <th>111</th>\n",
       "      <td>Yash Sharma Software Developer Associate\\n\\nSK...</td>\n",
       "    </tr>\n",
       "    <tr>\n",
       "      <th>112</th>\n",
       "      <td>Responsibilities:,My Responsibilities is track...</td>\n",
       "    </tr>\n",
       "  </tbody>\n",
       "</table>\n",
       "<p>113 rows × 1 columns</p>\n",
       "</div>"
      ],
      "text/plain": [
       "                                                  text\n",
       "0    Soumen Mandal Sr. Design Consultant\\n\\nEducati...\n",
       "1    Certification,Coursez Design Certified By: Cou...\n",
       "2    PERSONAL DOSSIER,Date of Birth,30th May; 1990 ...\n",
       "3    Sravan M ux/ui Designer\\n\\nEducation,Indian In...\n",
       "4    EMPLOYMENT,Turito India Pvt Ltd FEB \"2021 HYDE...\n",
       "..                                                 ...\n",
       "108  EXPERIENCE: Wipro Technologies Pvt Ltd Hyderab...\n",
       "109  Career Objective:,Looking for a challenging Io...\n",
       "110  Summary passionate software engineer with 3+ y...\n",
       "111  Yash Sharma Software Developer Associate\\n\\nSK...\n",
       "112  Responsibilities:,My Responsibilities is track...\n",
       "\n",
       "[113 rows x 1 columns]"
      ]
     },
     "execution_count": 78,
     "metadata": {},
     "output_type": "execute_result"
    }
   ],
   "source": [
    "df"
   ]
  },
  {
   "cell_type": "code",
   "execution_count": 53,
   "id": "fc2b026a",
   "metadata": {},
   "outputs": [],
   "source": [
    "# df = pd.read_csv('F:/projects/ARP/OCR/ocr/all_texts/1-20.csv')\n",
    "# df.to_csv('F:/projects/ARP/OCR/ocr/all_texts/1_20.csv')"
   ]
  },
  {
   "cell_type": "code",
   "execution_count": 38,
   "id": "1ea60a25",
   "metadata": {},
   "outputs": [
    {
     "data": {
      "text/html": [
       "<div>\n",
       "<style scoped>\n",
       "    .dataframe tbody tr th:only-of-type {\n",
       "        vertical-align: middle;\n",
       "    }\n",
       "\n",
       "    .dataframe tbody tr th {\n",
       "        vertical-align: top;\n",
       "    }\n",
       "\n",
       "    .dataframe thead th {\n",
       "        text-align: right;\n",
       "    }\n",
       "</style>\n",
       "<table border=\"1\" class=\"dataframe\">\n",
       "  <thead>\n",
       "    <tr style=\"text-align: right;\">\n",
       "      <th></th>\n",
       "      <th>texts</th>\n",
       "    </tr>\n",
       "  </thead>\n",
       "  <tbody>\n",
       "    <tr>\n",
       "      <th>0</th>\n",
       "      <td>Soumen Mandal Sr. Design Consultant\\n\\nEducati...</td>\n",
       "    </tr>\n",
       "    <tr>\n",
       "      <th>1</th>\n",
       "      <td>Certification,Coursez Design Certified By: Cou...</td>\n",
       "    </tr>\n",
       "    <tr>\n",
       "      <th>2</th>\n",
       "      <td>PERSONAL DOSSIER,Date of Birth,30th May; 1990 ...</td>\n",
       "    </tr>\n",
       "    <tr>\n",
       "      <th>3</th>\n",
       "      <td>Sravan M ux/ui Designer\\n\\nEducation,Indian In...</td>\n",
       "    </tr>\n",
       "    <tr>\n",
       "      <th>4</th>\n",
       "      <td>EMPLOYMENT,Turito India Pvt Ltd FEB \"2021 HYDE...</td>\n",
       "    </tr>\n",
       "  </tbody>\n",
       "</table>\n",
       "</div>"
      ],
      "text/plain": [
       "                                               texts\n",
       "0  Soumen Mandal Sr. Design Consultant\\n\\nEducati...\n",
       "1  Certification,Coursez Design Certified By: Cou...\n",
       "2  PERSONAL DOSSIER,Date of Birth,30th May; 1990 ...\n",
       "3  Sravan M ux/ui Designer\\n\\nEducation,Indian In...\n",
       "4  EMPLOYMENT,Turito India Pvt Ltd FEB \"2021 HYDE..."
      ]
     },
     "execution_count": 38,
     "metadata": {},
     "output_type": "execute_result"
    }
   ],
   "source": [
    "df.head()"
   ]
  },
  {
   "cell_type": "code",
   "execution_count": 39,
   "id": "d768c9c4",
   "metadata": {},
   "outputs": [
    {
     "data": {
      "text/plain": [
       "Index(['texts'], dtype='object')"
      ]
     },
     "execution_count": 39,
     "metadata": {},
     "output_type": "execute_result"
    }
   ],
   "source": [
    "# df = pd.read_csv('resume_basic_data.csv')\n",
    "df.columns"
   ]
  },
  {
   "cell_type": "code",
   "execution_count": 9,
   "id": "7fd16dcd",
   "metadata": {},
   "outputs": [],
   "source": [
    "df = pd.read_csv('./new_data.csv')"
   ]
  },
  {
   "cell_type": "code",
   "execution_count": 10,
   "id": "178e6517",
   "metadata": {},
   "outputs": [
    {
     "data": {
      "text/plain": [
       "Index(['Unnamed: 0', 'texts'], dtype='object')"
      ]
     },
     "execution_count": 10,
     "metadata": {},
     "output_type": "execute_result"
    }
   ],
   "source": [
    "df.columns"
   ]
  },
  {
   "cell_type": "code",
   "execution_count": 11,
   "id": "3ea08367",
   "metadata": {},
   "outputs": [],
   "source": [
    "df = df.drop(['Unnamed: 0'], axis=1)"
   ]
  },
  {
   "cell_type": "code",
   "execution_count": 12,
   "id": "1d272f89",
   "metadata": {},
   "outputs": [
    {
     "data": {
      "text/plain": [
       "Index(['texts'], dtype='object')"
      ]
     },
     "execution_count": 12,
     "metadata": {},
     "output_type": "execute_result"
    }
   ],
   "source": [
    "df.columns"
   ]
  },
  {
   "cell_type": "code",
   "execution_count": 13,
   "id": "cf4adf03",
   "metadata": {},
   "outputs": [],
   "source": [
    "df.to_csv('/data.csv')"
   ]
  },
  {
   "cell_type": "code",
   "execution_count": 15,
   "id": "260d42d1",
   "metadata": {},
   "outputs": [],
   "source": [
    "df1 = pd.read_csv('/data.csv')"
   ]
  },
  {
   "cell_type": "code",
   "execution_count": 16,
   "id": "d554ba80",
   "metadata": {},
   "outputs": [
    {
     "data": {
      "text/html": [
       "<div>\n",
       "<style scoped>\n",
       "    .dataframe tbody tr th:only-of-type {\n",
       "        vertical-align: middle;\n",
       "    }\n",
       "\n",
       "    .dataframe tbody tr th {\n",
       "        vertical-align: top;\n",
       "    }\n",
       "\n",
       "    .dataframe thead th {\n",
       "        text-align: right;\n",
       "    }\n",
       "</style>\n",
       "<table border=\"1\" class=\"dataframe\">\n",
       "  <thead>\n",
       "    <tr style=\"text-align: right;\">\n",
       "      <th></th>\n",
       "      <th>Unnamed: 0</th>\n",
       "      <th>texts</th>\n",
       "    </tr>\n",
       "  </thead>\n",
       "  <tbody>\n",
       "    <tr>\n",
       "      <th>0</th>\n",
       "      <td>0</td>\n",
       "      <td>\\nAbinash Sahu \\n\\nEmail ID:abinashgcs@gmail....</td>\n",
       "    </tr>\n",
       "    <tr>\n",
       "      <th>1</th>\n",
       "      <td>1</td>\n",
       "      <td>ADAPA SURYA ANISH KUMAR \\n \\nEmail    : - adap...</td>\n",
       "    </tr>\n",
       "    <tr>\n",
       "      <th>2</th>\n",
       "      <td>2</td>\n",
       "      <td>Aishwarya Aljapur \\naishwaryaaljapur.1@gmail.c...</td>\n",
       "    </tr>\n",
       "    <tr>\n",
       "      <th>3</th>\n",
       "      <td>3</td>\n",
       "      <td>AKASH D. ZADE                                 ...</td>\n",
       "    </tr>\n",
       "    <tr>\n",
       "      <th>4</th>\n",
       "      <td>4</td>\n",
       "      <td>\\nAnil Sahoo \\n \\nEmail: anilsahoo.aiml@gmail....</td>\n",
       "    </tr>\n",
       "    <tr>\n",
       "      <th>5</th>\n",
       "      <td>5</td>\n",
       "      <td>ASHISH PRAKASHRAO BIRADAR \\nEmail: abiradar41@...</td>\n",
       "    </tr>\n",
       "    <tr>\n",
       "      <th>6</th>\n",
       "      <td>6</td>\n",
       "      <td>DONDETI ANJI REDDY \\ndondetianjireddy8@gmail.c...</td>\n",
       "    </tr>\n",
       "    <tr>\n",
       "      <th>7</th>\n",
       "      <td>7</td>\n",
       "      <td>MAREM ANIL KUMAR \\nMail:anilkumarmarem07@gmail...</td>\n",
       "    </tr>\n",
       "    <tr>\n",
       "      <th>8</th>\n",
       "      <td>8</td>\n",
       "      <td>\\nMulla Inayathulla           \\nEmail: inayat...</td>\n",
       "    </tr>\n",
       "    <tr>\n",
       "      <th>9</th>\n",
       "      <td>9</td>\n",
       "      <td>Narasimha Reddy Boddapati \\n\\nnarasimhareddybo...</td>\n",
       "    </tr>\n",
       "    <tr>\n",
       "      <th>10</th>\n",
       "      <td>10</td>\n",
       "      <td>KOLANERU PRASHANTH \\nprashanthpro.pro@gmail.co...</td>\n",
       "    </tr>\n",
       "    <tr>\n",
       "      <th>11</th>\n",
       "      <td>11</td>\n",
       "      <td>Raghurami Reddy \\nraghurambv28@gmail.com \\n+91...</td>\n",
       "    </tr>\n",
       "    <tr>\n",
       "      <th>12</th>\n",
       "      <td>12</td>\n",
       "      <td>\\nRAJESH                                     ...</td>\n",
       "    </tr>\n",
       "    <tr>\n",
       "      <th>13</th>\n",
       "      <td>13</td>\n",
       "      <td>Rini J Prabha \\nrinij.prabha@gmail.com        ...</td>\n",
       "    </tr>\n",
       "    <tr>\n",
       "      <th>14</th>\n",
       "      <td>14</td>\n",
       "      <td>Rohit Saini\\nrohitsaini27811@gmail.com\\n805904...</td>\n",
       "    </tr>\n",
       "    <tr>\n",
       "      <th>15</th>\n",
       "      <td>15</td>\n",
       "      <td>SAMPATH BUKYA\\nsampathbukya518@gmail.com \\n901...</td>\n",
       "    </tr>\n",
       "  </tbody>\n",
       "</table>\n",
       "</div>"
      ],
      "text/plain": [
       "    Unnamed: 0                                              texts\n",
       "0            0   \\nAbinash Sahu \\n\\nEmail ID:abinashgcs@gmail....\n",
       "1            1  ADAPA SURYA ANISH KUMAR \\n \\nEmail    : - adap...\n",
       "2            2  Aishwarya Aljapur \\naishwaryaaljapur.1@gmail.c...\n",
       "3            3  AKASH D. ZADE                                 ...\n",
       "4            4  \\nAnil Sahoo \\n \\nEmail: anilsahoo.aiml@gmail....\n",
       "5            5  ASHISH PRAKASHRAO BIRADAR \\nEmail: abiradar41@...\n",
       "6            6  DONDETI ANJI REDDY \\ndondetianjireddy8@gmail.c...\n",
       "7            7  MAREM ANIL KUMAR \\nMail:anilkumarmarem07@gmail...\n",
       "8            8   \\nMulla Inayathulla           \\nEmail: inayat...\n",
       "9            9  Narasimha Reddy Boddapati \\n\\nnarasimhareddybo...\n",
       "10          10  KOLANERU PRASHANTH \\nprashanthpro.pro@gmail.co...\n",
       "11          11  Raghurami Reddy \\nraghurambv28@gmail.com \\n+91...\n",
       "12          12   \\nRAJESH                                     ...\n",
       "13          13  Rini J Prabha \\nrinij.prabha@gmail.com        ...\n",
       "14          14  Rohit Saini\\nrohitsaini27811@gmail.com\\n805904...\n",
       "15          15  SAMPATH BUKYA\\nsampathbukya518@gmail.com \\n901..."
      ]
     },
     "execution_count": 16,
     "metadata": {},
     "output_type": "execute_result"
    }
   ],
   "source": [
    "df1"
   ]
  },
  {
   "cell_type": "code",
   "execution_count": 3,
   "id": "73ab7e04",
   "metadata": {},
   "outputs": [],
   "source": [
    "import os\n",
    "from os.path import isfile, join"
   ]
  },
  {
   "cell_type": "code",
   "execution_count": 4,
   "id": "fa170eb7",
   "metadata": {},
   "outputs": [],
   "source": [
    "base_path = 'F:/projects/ARP/OCR/ocr/output'"
   ]
  },
  {
   "cell_type": "code",
   "execution_count": 5,
   "id": "28446aad",
   "metadata": {},
   "outputs": [
    {
     "name": "stdout",
     "output_type": "stream",
     "text": [
      "[]\n"
     ]
    }
   ],
   "source": [
    "file_ls = [f for f in os.listdir(base_path) if isfile(join(base_path, f))]\n",
    "print(file_ls)"
   ]
  },
  {
   "cell_type": "code",
   "execution_count": 13,
   "id": "f0b705fd",
   "metadata": {},
   "outputs": [],
   "source": [
    "# root='/path/to/my/dir'\n",
    "dirlist = [ item for item in os.listdir(base_path) if os.path.isdir(os.path.join(base_path, item)) ]\n",
    "# dirlist"
   ]
  },
  {
   "cell_type": "code",
   "execution_count": 15,
   "id": "ea36ca62",
   "metadata": {},
   "outputs": [],
   "source": [
    "direct = []\n",
    "for folders in os.listdir(base_path):\n",
    "    direct.append(folders)"
   ]
  },
  {
   "cell_type": "code",
   "execution_count": 19,
   "id": "9e3e1619",
   "metadata": {},
   "outputs": [],
   "source": [
    "file_path = []\n",
    "for name in direct:\n",
    "    path = os.listdir(os.path.join(base_path, name))\n",
    "    file_path.append(path)"
   ]
  },
  {
   "cell_type": "code",
   "execution_count": 21,
   "id": "f4124ae6",
   "metadata": {},
   "outputs": [
    {
     "name": "stdout",
     "output_type": "stream",
     "text": [
      "F:/projects/ARP/OCR/ocr/output\\Naukri_SoumenMandal[8y_0m]\n",
      "F:/projects/ARP/OCR/ocr/output\\Naukri_SoumyaB[4y_2m]\n",
      "F:/projects/ARP/OCR/ocr/output\\Naukri_SravanKumar[8y_0m]\n",
      "F:/projects/ARP/OCR/ocr/output\\Naukri_SravanM[5y_0m]\n",
      "F:/projects/ARP/OCR/ocr/output\\Naukri_SreejithRajappan[6y_0m]\n",
      "F:/projects/ARP/OCR/ocr/output\\Naukri_Sreenithya[1y_6m]\n",
      "F:/projects/ARP/OCR/ocr/output\\Naukri_SridharYerramsetti[9y_0m]\n",
      "F:/projects/ARP/OCR/ocr/output\\Naukri_SrikanthBondu[5y_8m]\n",
      "F:/projects/ARP/OCR/ocr/output\\Naukri_SrikanthPamarthi[5y_2m]\n",
      "F:/projects/ARP/OCR/ocr/output\\Naukri_SrinivasaraoYadlapalli[4y_0m]_page-00\n",
      "F:/projects/ARP/OCR/ocr/output\\Naukri_SrinuJegurupati[5y_1m]\n",
      "F:/projects/ARP/OCR/ocr/output\\Naukri_SrivaniVulli[2y_6m] (1)_page-00\n",
      "F:/projects/ARP/OCR/ocr/output\\Naukri_SrujanaY[8y_0m]\n",
      "F:/projects/ARP/OCR/ocr/output\\Naukri_SubhashPatidar[10y_0m]\n",
      "F:/projects/ARP/OCR/ocr/output\\Naukri_SubhashreeDash[6y_0m]\n",
      "F:/projects/ARP/OCR/ocr/output\\Naukri_SudhirRajYelleti[3y_8m]_page-00\n",
      "F:/projects/ARP/OCR/ocr/output\\Naukri_SudhirRKomawar[16y_0m]\n",
      "F:/projects/ARP/OCR/ocr/output\\Naukri_SUGUNASIDDINENI[2y_2m]\n",
      "F:/projects/ARP/OCR/ocr/output\\Naukri_SuhailYazdan[20y_0m]\n",
      "F:/projects/ARP/OCR/ocr/output\\Naukri_suman[16y_0m]\n",
      "F:/projects/ARP/OCR/ocr/output\\Naukri_SunilKumarM[6y_0m]\n",
      "F:/projects/ARP/OCR/ocr/output\\Naukri_SunilKumar[8y_0m]\n",
      "F:/projects/ARP/OCR/ocr/output\\Naukri_SunilKumar[8y_0m] (1)\n",
      "F:/projects/ARP/OCR/ocr/output\\Naukri_SuraganiKoteswarRao[7y_0m]\n",
      "F:/projects/ARP/OCR/ocr/output\\Naukri_SurendraKumarRana[10y_0m]\n",
      "F:/projects/ARP/OCR/ocr/output\\Naukri_SureshbabuAlagar[10y_0m]\n",
      "F:/projects/ARP/OCR/ocr/output\\Naukri_SureshInam[13y_0m]\n",
      "F:/projects/ARP/OCR/ocr/output\\Naukri_suresh[9y_0m]\n",
      "F:/projects/ARP/OCR/ocr/output\\Naukri_SWARAJADHIKARI[8y_0m]\n",
      "F:/projects/ARP/OCR/ocr/output\\Naukri_TasminShaik[6y_0m]\n",
      "F:/projects/ARP/OCR/ocr/output\\Naukri_UmaShankarSahu[12y_0m]\n",
      "F:/projects/ARP/OCR/ocr/output\\Naukri_VADDADIRVSPRASAD[4y_6m]\n",
      "F:/projects/ARP/OCR/ocr/output\\Naukri_VasistaPrasanth[8y_0m]\n",
      "F:/projects/ARP/OCR/ocr/output\\Naukri_VDurgaVenkatPrasad[7y_0m]\n",
      "F:/projects/ARP/OCR/ocr/output\\Naukri_VedanthamGopalaKrishnaChaitanya[2y_4m] (1)_page-00\n",
      "F:/projects/ARP/OCR/ocr/output\\Naukri_vempatapuvijay[4y_8m]\n",
      "F:/projects/ARP/OCR/ocr/output\\Naukri_VenkateshBhavani[2y_0m]\n",
      "F:/projects/ARP/OCR/ocr/output\\Naukri_VenkateshKilaru[2y_2m] (1)_page-00\n",
      "F:/projects/ARP/OCR/ocr/output\\Naukri_VennuPraneepKumar[4y_2m]\n",
      "F:/projects/ARP/OCR/ocr/output\\Naukri_VetrivelG[4y_0m]\n",
      "F:/projects/ARP/OCR/ocr/output\\Naukri_VijayVarmaTirumalaraju[10y_0m]_page-00\n",
      "F:/projects/ARP/OCR/ocr/output\\Naukri_vijay[15y_0m]\n",
      "F:/projects/ARP/OCR/ocr/output\\Naukri_VIKASCHAURASIYA[2y_5m]\n",
      "F:/projects/ARP/OCR/ocr/output\\Naukri_VikramBanda[8y_0m]\n",
      "F:/projects/ARP/OCR/ocr/output\\Naukri_VirralSonie[15y_0m]\n",
      "F:/projects/ARP/OCR/ocr/output\\Naukri_VSBALAJI[9y_0m]\n",
      "F:/projects/ARP/OCR/ocr/output\\Naukri_VSravanKumar[6y_0m]\n",
      "F:/projects/ARP/OCR/ocr/output\\Naukri_YaswanthNuvvula[3y_6m]_page-00\n",
      "F:/projects/ARP/OCR/ocr/output\\Naukri_YGovardhanReddy[3y_3m]_page-00\n",
      "F:/projects/ARP/OCR/ocr/output\\Naukri_ZakiTanvirPathan[13y_0m]\n",
      "F:/projects/ARP/OCR/ocr/output\\Naveenkumar[3_9]\n",
      "F:/projects/ARP/OCR/ocr/output\\nikhil gupta resume\n",
      "F:/projects/ARP/OCR/ocr/output\\NikhilKumarRajuTerukula[3_0]_page-00\n",
      "F:/projects/ARP/OCR/ocr/output\\page00\n",
      "F:/projects/ARP/OCR/ocr/output\\PeddalaAnil[3_0]\n",
      "F:/projects/ARP/OCR/ocr/output\\PramodhMahajanJakkula[5_0]\n",
      "F:/projects/ARP/OCR/ocr/output\\Prasad[2_0]_page-00\n",
      "F:/projects/ARP/OCR/ocr/output\\prasanjitprusty[3_0]_page-00\n",
      "F:/projects/ARP/OCR/ocr/output\\Prashanth\n",
      "F:/projects/ARP/OCR/ocr/output\\PrashanthReddyP[3_0]\n",
      "F:/projects/ARP/OCR/ocr/output\\PravinDevadasJorigal[3_8]_page-00\n",
      "F:/projects/ARP/OCR/ocr/output\\pswetha[3_0]\n",
      "F:/projects/ARP/OCR/ocr/output\\pushpaoduri[3_5]_page-00\n",
      "F:/projects/ARP/OCR/ocr/output\\PUTTARAMAKRISHNA[3_5]_page-00\n",
      "F:/projects/ARP/OCR/ocr/output\\Raghunath Resume updated  (1)-converted\n",
      "F:/projects/ARP/OCR/ocr/output\\RajendraReddy[3_2]_page-00\n",
      "F:/projects/ARP/OCR/ocr/output\\RajeshBabuJasti[4_11]\n",
      "F:/projects/ARP/OCR/ocr/output\\RajeshwariEdunoju[3_0]\n",
      "F:/projects/ARP/OCR/ocr/output\\Ratnachari[1_11]_page-00\n",
      "F:/projects/ARP/OCR/ocr/output\\RaviTeja[3_1]\n",
      "F:/projects/ARP/OCR/ocr/output\\RavulaPriyanka[6_0]\n",
      "F:/projects/ARP/OCR/ocr/output\\Resume_KrishnaChaitanyaGadhavarjula-converted\n",
      "F:/projects/ARP/OCR/ocr/output\\RudrojuRajendraprasad[4_2]_page-00\n",
      "F:/projects/ARP/OCR/ocr/output\\SaiKiranGadamsetti[3_8]\n",
      "F:/projects/ARP/OCR/ocr/output\\Sangamarchana[4_2]_page-00\n",
      "F:/projects/ARP/OCR/ocr/output\\santosh-resume_00001 (\n",
      "F:/projects/ARP/OCR/ocr/output\\ShaikhMahetabHussain[3_0]\n",
      "F:/projects/ARP/OCR/ocr/output\\ShaikhRiyaz[3_0]_page-00\n",
      "F:/projects/ARP/OCR/ocr/output\\shasikumarkothuri[3_4]\n",
      "F:/projects/ARP/OCR/ocr/output\\SHIVAKUMARAKKI[3y_0m]_page-00\n",
      "F:/projects/ARP/OCR/ocr/output\\Shivanandini[3_4]\n",
      "F:/projects/ARP/OCR/ocr/output\\ShobhaRani__Hyderabad___Secunderabad_410_yrs\n",
      "F:/projects/ARP/OCR/ocr/output\\Simhavardhan[2y_8m]_page-00\n",
      "F:/projects/ARP/OCR/ocr/output\\SIREESHA_GORLA__Hyderabad___Secunderabad_307_yrs\n",
      "F:/projects/ARP/OCR/ocr/output\\Sourav_Rout__Bengaluru___Bangalore_101_yrs\n",
      "F:/projects/ARP/OCR/ocr/output\\sravanchityala[4_5]\n",
      "F:/projects/ARP/OCR/ocr/output\\sravanthbaratam[2_6]_page-00\n",
      "F:/projects/ARP/OCR/ocr/output\\SrujanaJanjanam[3_5]\n",
      "F:/projects/ARP/OCR/ocr/output\\Stephen_Charles__Pune_606_yrs\n",
      "F:/projects/ARP/OCR/ocr/output\\Sunilgoutham[2y_10m]_page-00\n",
      "F:/projects/ARP/OCR/ocr/output\\SurendraKumar[3_0]_page-00\n",
      "F:/projects/ARP/OCR/ocr/output\\SusmithaGaddam[3_7]-converted\n",
      "F:/projects/ARP/OCR/ocr/output\\SwapnaReddy[2_5]\n",
      "F:/projects/ARP/OCR/ocr/output\\SwathiGulipilli[3y_1m]_page-00\n",
      "F:/projects/ARP/OCR/ocr/output\\TKavitha[2_4]\n",
      "F:/projects/ARP/OCR/ocr/output\\TVaraPrasad[2y_1m]_page-00\n",
      "F:/projects/ARP/OCR/ocr/output\\TVSRKRISHNAKS[5_10]_page-00\n",
      "F:/projects/ARP/OCR/ocr/output\\UI Designer and UX Designer JD\n",
      "F:/projects/ARP/OCR/ocr/output\\Usha_Sravani_Grandhi__Hyderabad___Secunderabad_302_yrs\n",
      "F:/projects/ARP/OCR/ocr/output\\USJMANOJKUMARREDDY[3_4]\n",
      "F:/projects/ARP/OCR/ocr/output\\Vakasarathkumar[4_1] (1)\n",
      "F:/projects/ARP/OCR/ocr/output\\vamshikrishnaA[6_0]\n",
      "F:/projects/ARP/OCR/ocr/output\\vengaiah resume\n",
      "F:/projects/ARP/OCR/ocr/output\\VenkataKrishnaVarikuti[3_2]\n",
      "F:/projects/ARP/OCR/ocr/output\\VenkataSivaRangareddyGolamari[2_0]\n",
      "F:/projects/ARP/OCR/ocr/output\\VENKATASURENDRAREDDYNARA[4_3]\n",
      "F:/projects/ARP/OCR/ocr/output\\VenkateshPanuganti[7_0]\n",
      "F:/projects/ARP/OCR/ocr/output\\VenkateshPanuganti[7_0]_\n",
      "F:/projects/ARP/OCR/ocr/output\\vijaybaskar[2_8]_page-00\n",
      "F:/projects/ARP/OCR/ocr/output\\vinodkumar[2_5]_page-00\n",
      "F:/projects/ARP/OCR/ocr/output\\VudaSriLakshmi[3_5]\n",
      "F:/projects/ARP/OCR/ocr/output\\YashSharma[3_6]_page-00\n",
      "F:/projects/ARP/OCR/ocr/output\\Yellesh[3_8]\n"
     ]
    }
   ],
   "source": [
    "directory = 'F:/projects/ARP/OCR/ocr/output'\n",
    "\n",
    "for filename in glob.iglob(f'{directory}/*'):\n",
    "    path = filename\n",
    "    "
   ]
  },
  {
   "cell_type": "code",
   "execution_count": 11,
   "id": "05a4a016",
   "metadata": {},
   "outputs": [],
   "source": [
    "import pandas as pd"
   ]
  },
  {
   "cell_type": "code",
   "execution_count": 7,
   "id": "5379d59c",
   "metadata": {},
   "outputs": [],
   "source": [
    "dir = 'F:/projects/ARP/OCR/output4/output4/'\n",
    "import os\n",
    "# def list_files(dir):\n",
    "r = []\n",
    "for root, dirs, files in os.walk(dir):\n",
    "    for name in files:\n",
    "        filepath = root + os.sep + name\n",
    "        if filepath.endswith(\".txt\"):\n",
    "            r.append(os.path.join(root, name))\n",
    "#     return r"
   ]
  },
  {
   "cell_type": "code",
   "execution_count": 8,
   "id": "aad681d6",
   "metadata": {},
   "outputs": [
    {
     "data": {
      "text/plain": [
       "17"
      ]
     },
     "execution_count": 8,
     "metadata": {},
     "output_type": "execute_result"
    }
   ],
   "source": [
    "# list_files(dir)\n",
    "len(r)"
   ]
  },
  {
   "cell_type": "code",
   "execution_count": 17,
   "id": "8c11c8fd",
   "metadata": {},
   "outputs": [],
   "source": [
    "texts = []\n",
    "for file in r:\n",
    "    with open(file, \"r\", encoding='utf-8') as fp:\n",
    "        text = ''.join(fp.readlines())\n",
    "    texts.append(text)"
   ]
  },
  {
   "cell_type": "code",
   "execution_count": 18,
   "id": "aab8ddb8",
   "metadata": {},
   "outputs": [
    {
     "data": {
      "text/plain": [
       "17"
      ]
     },
     "execution_count": 18,
     "metadata": {},
     "output_type": "execute_result"
    }
   ],
   "source": [
    "len(texts)"
   ]
  },
  {
   "cell_type": "code",
   "execution_count": 19,
   "id": "b0b8e547",
   "metadata": {},
   "outputs": [
    {
     "data": {
      "text/plain": [
       "'+91 9990 265 865,amangiliz489@outlook.com,Kondapur, Hyderabad\\n\\ncertifications Wlley Certified Python Programmer WlleyNXT Issued Date Sept 2020 Certificate no: WCPP-IND-211220032,Wlley Certified Design Thinklng WlleyNXT UGsWed Date WCDTP-IND-090721028,PRINCEZW Practitloner Project Management (PRZPY EXIN Certificate no: 5849272.20599530 Issued Date 11/14/2016 Explratlon Date 11/14/2021,PRINCEZW Foundation Project Management (PRZFY EXIN Certificate no: 5849272.20599191 aGcved Date 11/14/2016\\n\\nAMANDEEP GILL\\n\\nEDUCATIO M,Executive Program in Data-Driven Product Management IIM-Lucknow 20z0 2021,Master\\'s In business administration Project Management Sikkim Manipal University, Delhi 2012 2014,Bachelor\\'$ in commerce Agra University; Agra 2008 - 2011\\n\\nPROFESSIONAL EXPERIENC E,Zaggle Director 0f Products,Hyderabad Jan 2022 Kresent,Responsible for managlng product development strategy, roadmap; cyecumon Driving the development aunch; and growth of neiv services and fcature enhancements global product market fit Supporting cross-functional teams including sales and marketing bY providing training conten: es support, @bsite content videos. Managing tcam of product managers responsible for hiring training career development, appralsals. Heading market escarch Initiatives; market slzing TAM, competltor analysis, customer experience using prlmary research methodologies_ preparing GTM strategies_,GlobalData Plc Practice Head Innovations & Insights Projec: Manager Innovabons 4 insiants Essociat Innovatlons ins gnis Benio Analyst,Hyderabad July 2020 Present Dec 2017 Jun 2020 LP\"ZDIS Jc 7017 Mn/ e Mar 3065,Product management: Gathering and prioritlzing product ad customer requlrements defining the product scope; roadmap GIM strategy_ working closely with cross-functional teams including engineering, design _ saics, marketing an0 support teams ensure revenue and customer satisfaction goals are met: Conduct market research gather insights on market landscape, demand_ data gathering, keywords taxonomy, competitor products and features using various research methodologles such as primary recearch cecondar Tesearcn surveys Coordlnate with multiple stakeholders from different sectors Including Consumer, Pharma; Healthcare Financial Services, etc to understand product vision and bullt trust by maintaining an accurate and achievable roadmap Tcam Management Manage Tean 12 analyst, conducting market research to Identify industry trends_ UX research, and business opportunities: Create mock-ups product deslgn and features and write user-stories for customer jouiney Manage(partially) marketing new products and services for cllent communicatlon and enhanced online visibllity vla flyers_ press releases atticies reports, twects/posts_ Exevo India Pvt Ltd (now Moody\\' Analytics) Assistant Team Leader Jan 2011 Jan 2014,Worked on diversified research areas whlle driving profitabillty and productivity of tne team Client Servicing and retention: Assist the business development and sales team get contracts; renewals Responsible for relatlonship building and cllent engagement throughout\\' after the project completion Project management; Advisory From the kick-off of studies, budget setting scoping coding cllent needs deveiaping study plan; fleldwork; regular monitoring progress sharing updates; delivering results _ Drive Productivity: Data collection through CATI, secondary online surveys for vanous Industry Ilke IT , Flnance Telecommunicatlon; Energy and Retall verticals across US; EMEA and APAC reglons.\\n\\nKEYsKiLLS,Product lifecycle management,Strong communication,Stakeholder management,Innovation & Design Thinking,Data collection and Analysis,Team leadership,Market & Competitor research\\n\\nPROFESSIONALSUMMARY,Passionate, data-driven Product Manager with over 11 years of experience, seeking to leverage proven leadership and strategy skills to create meaningful products and solutions for customers_\\n\\n'"
      ]
     },
     "execution_count": 19,
     "metadata": {},
     "output_type": "execute_result"
    }
   ],
   "source": [
    "texts[0]"
   ]
  },
  {
   "cell_type": "code",
   "execution_count": 16,
   "id": "ff071efc",
   "metadata": {},
   "outputs": [],
   "source": [
    "pd.DataFrame(texts,columns=['text']).to_csv(\"F:/projects/ARP/OCR/output4/output4/1-17.csv\",index=False)"
   ]
  },
  {
   "cell_type": "code",
   "execution_count": 20,
   "id": "b122ad72",
   "metadata": {},
   "outputs": [],
   "source": [
    "df = pd.read_csv('F:/projects/ARP/OCR/output4/output4/1-17.csv')"
   ]
  },
  {
   "cell_type": "code",
   "execution_count": 22,
   "id": "fe9119e0",
   "metadata": {},
   "outputs": [
    {
     "data": {
      "text/plain": [
       "'+91 9990 265 865,amangiliz489@outlook.com,Kondapur, Hyderabad\\n\\ncertifications Wlley Certified Python Programmer WlleyNXT Issued Date Sept 2020 Certificate no: WCPP-IND-211220032,Wlley Certified Design Thinklng WlleyNXT UGsWed Date WCDTP-IND-090721028,PRINCEZW Practitloner Project Management (PRZPY EXIN Certificate no: 5849272.20599530 Issued Date 11/14/2016 Explratlon Date 11/14/2021,PRINCEZW Foundation Project Management (PRZFY EXIN Certificate no: 5849272.20599191 aGcved Date 11/14/2016\\n\\nAMANDEEP GILL\\n\\nEDUCATIO M,Executive Program in Data-Driven Product Management IIM-Lucknow 20z0 2021,Master\\'s In business administration Project Management Sikkim Manipal University, Delhi 2012 2014,Bachelor\\'$ in commerce Agra University; Agra 2008 - 2011\\n\\nPROFESSIONAL EXPERIENC E,Zaggle Director 0f Products,Hyderabad Jan 2022 Kresent,Responsible for managlng product development strategy, roadmap; cyecumon Driving the development aunch; and growth of neiv services and fcature enhancements global product market fit Supporting cross-functional teams including sales and marketing bY providing training conten: es support, @bsite content videos. Managing tcam of product managers responsible for hiring training career development, appralsals. Heading market escarch Initiatives; market slzing TAM, competltor analysis, customer experience using prlmary research methodologies_ preparing GTM strategies_,GlobalData Plc Practice Head Innovations & Insights Projec: Manager Innovabons 4 insiants Essociat Innovatlons ins gnis Benio Analyst,Hyderabad July 2020 Present Dec 2017 Jun 2020 LP\"ZDIS Jc 7017 Mn/ e Mar 3065,Product management: Gathering and prioritlzing product ad customer requlrements defining the product scope; roadmap GIM strategy_ working closely with cross-functional teams including engineering, design _ saics, marketing an0 support teams ensure revenue and customer satisfaction goals are met: Conduct market research gather insights on market landscape, demand_ data gathering, keywords taxonomy, competitor products and features using various research methodologles such as primary recearch cecondar Tesearcn surveys Coordlnate with multiple stakeholders from different sectors Including Consumer, Pharma; Healthcare Financial Services, etc to understand product vision and bullt trust by maintaining an accurate and achievable roadmap Tcam Management Manage Tean 12 analyst, conducting market research to Identify industry trends_ UX research, and business opportunities: Create mock-ups product deslgn and features and write user-stories for customer jouiney Manage(partially) marketing new products and services for cllent communicatlon and enhanced online visibllity vla flyers_ press releases atticies reports, twects/posts_ Exevo India Pvt Ltd (now Moody\\' Analytics) Assistant Team Leader Jan 2011 Jan 2014,Worked on diversified research areas whlle driving profitabillty and productivity of tne team Client Servicing and retention: Assist the business development and sales team get contracts; renewals Responsible for relatlonship building and cllent engagement throughout\\' after the project completion Project management; Advisory From the kick-off of studies, budget setting scoping coding cllent needs deveiaping study plan; fleldwork; regular monitoring progress sharing updates; delivering results _ Drive Productivity: Data collection through CATI, secondary online surveys for vanous Industry Ilke IT , Flnance Telecommunicatlon; Energy and Retall verticals across US; EMEA and APAC reglons.\\n\\nKEYsKiLLS,Product lifecycle management,Strong communication,Stakeholder management,Innovation & Design Thinking,Data collection and Analysis,Team leadership,Market & Competitor research\\n\\nPROFESSIONALSUMMARY,Passionate, data-driven Product Manager with over 11 years of experience, seeking to leverage proven leadership and strategy skills to create meaningful products and solutions for customers_\\n\\n'"
      ]
     },
     "execution_count": 22,
     "metadata": {},
     "output_type": "execute_result"
    }
   ],
   "source": [
    "df['text'][0]"
   ]
  },
  {
   "cell_type": "code",
   "execution_count": null,
   "id": "917279a6",
   "metadata": {},
   "outputs": [],
   "source": []
  }
 ],
 "metadata": {
  "kernelspec": {
   "display_name": "Python 3",
   "language": "python",
   "name": "python3"
  },
  "language_info": {
   "codemirror_mode": {
    "name": "ipython",
    "version": 3
   },
   "file_extension": ".py",
   "mimetype": "text/x-python",
   "name": "python",
   "nbconvert_exporter": "python",
   "pygments_lexer": "ipython3",
   "version": "3.8.8"
  }
 },
 "nbformat": 4,
 "nbformat_minor": 5
}
