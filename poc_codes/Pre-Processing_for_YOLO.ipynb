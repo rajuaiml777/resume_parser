{
 "cells": [
  {
   "cell_type": "code",
   "execution_count": 1,
   "id": "4fe44d52",
   "metadata": {},
   "outputs": [],
   "source": [
    "## docx2pdf-0.1.8\n",
    "# !pip install docx2pdf"
   ]
  },
  {
   "cell_type": "code",
   "execution_count": 10,
   "id": "06a857db",
   "metadata": {},
   "outputs": [],
   "source": [
    "## pdf2image-1.16.0\n",
    "# !pip install pdf2image"
   ]
  },
  {
   "cell_type": "code",
   "execution_count": 2,
   "id": "4d8cce3d",
   "metadata": {},
   "outputs": [],
   "source": [
    "# !pip install poppler-utils -- not worked here"
   ]
  },
  {
   "cell_type": "code",
   "execution_count": 4,
   "id": "08ca8fd6",
   "metadata": {
    "scrolled": true
   },
   "outputs": [],
   "source": [
    "#!pip install pdf-info -- not worked here\n",
    "# conda install -c conda-forge poppler  -- only this works here for poppler issue"
   ]
  },
  {
   "cell_type": "code",
   "execution_count": 4,
   "id": "93a49a5c",
   "metadata": {},
   "outputs": [],
   "source": [
    "# Unpacking poppler-utils (0.62.0-2ubuntu2.12) ...\n",
    "# Setting up poppler-utils (0.62.0-2ubuntu2.12) ...\n",
    "# Processing triggers for man-db (2.8.3-2ubuntu0.1) ..\n",
    "\n",
    "# !apt-get install poppler-utils  ## dependecy for pdf2image"
   ]
  },
  {
   "cell_type": "code",
   "execution_count": 2,
   "id": "411f2381",
   "metadata": {},
   "outputs": [
    {
     "ename": "ModuleNotFoundError",
     "evalue": "No module named 'pdf2image'",
     "output_type": "error",
     "traceback": [
      "\u001b[1;31m---------------------------------------------------------------------------\u001b[0m",
      "\u001b[1;31mModuleNotFoundError\u001b[0m                       Traceback (most recent call last)",
      "Input \u001b[1;32mIn [2]\u001b[0m, in \u001b[0;36m<cell line: 5>\u001b[1;34m()\u001b[0m\n\u001b[0;32m      3\u001b[0m \u001b[38;5;28;01mimport\u001b[39;00m \u001b[38;5;21;01mos\u001b[39;00m\n\u001b[0;32m      4\u001b[0m \u001b[38;5;28;01mfrom\u001b[39;00m \u001b[38;5;21;01mPIL\u001b[39;00m \u001b[38;5;28;01mimport\u001b[39;00m Image\n\u001b[1;32m----> 5\u001b[0m \u001b[38;5;28;01mfrom\u001b[39;00m \u001b[38;5;21;01mpdf2image\u001b[39;00m \u001b[38;5;28;01mimport\u001b[39;00m convert_from_path, convert_from_bytes\n",
      "\u001b[1;31mModuleNotFoundError\u001b[0m: No module named 'pdf2image'"
     ]
    }
   ],
   "source": [
    "# PIL version -- '7.1.2'\n",
    "from docx2pdf import convert\n",
    "import os\n",
    "from PIL import Image\n",
    "from pdf2image import convert_from_path, convert_from_bytes"
   ]
  },
  {
   "cell_type": "markdown",
   "id": "2c65cd7f",
   "metadata": {},
   "source": [
    "### docx2pdf conversion"
   ]
  },
  {
   "cell_type": "code",
   "execution_count": 1,
   "id": "a0d2b5fe",
   "metadata": {},
   "outputs": [
    {
     "ename": "NameError",
     "evalue": "name 'os' is not defined",
     "output_type": "error",
     "traceback": [
      "\u001b[1;31m---------------------------------------------------------------------------\u001b[0m",
      "\u001b[1;31mNameError\u001b[0m                                 Traceback (most recent call last)",
      "Input \u001b[1;32mIn [1]\u001b[0m, in \u001b[0;36m<cell line: 6>\u001b[1;34m()\u001b[0m\n\u001b[0;32m      3\u001b[0m docx_dir \u001b[38;5;241m=\u001b[39m \u001b[38;5;124m'\u001b[39m\u001b[38;5;124mE:/ATS/data/nodejs/docx\u001b[39m\u001b[38;5;124m'\u001b[39m\n\u001b[0;32m      4\u001b[0m save_pdf \u001b[38;5;241m=\u001b[39m \u001b[38;5;124m'\u001b[39m\u001b[38;5;124mE:/ATS/data/nodejs/docx/output\u001b[39m\u001b[38;5;124m'\u001b[39m\n\u001b[1;32m----> 6\u001b[0m \u001b[38;5;28;01mfor\u001b[39;00m filename \u001b[38;5;129;01min\u001b[39;00m \u001b[43mos\u001b[49m\u001b[38;5;241m.\u001b[39mlistdir(docx_dir):\n\u001b[0;32m      7\u001b[0m   save_name \u001b[38;5;241m=\u001b[39m \u001b[38;5;124m'\u001b[39m\u001b[38;5;124m'\u001b[39m\u001b[38;5;241m.\u001b[39mjoin(filename\u001b[38;5;241m.\u001b[39msplit(\u001b[38;5;124m\"\u001b[39m\u001b[38;5;124m.\u001b[39m\u001b[38;5;124m\"\u001b[39m)[:\u001b[38;5;241m-\u001b[39m\u001b[38;5;241m1\u001b[39m])\n\u001b[0;32m      8\u001b[0m   \u001b[38;5;28;01mif\u001b[39;00m filename\u001b[38;5;241m.\u001b[39mendswith(\u001b[38;5;124m'\u001b[39m\u001b[38;5;124m.docx\u001b[39m\u001b[38;5;124m'\u001b[39m):\n",
      "\u001b[1;31mNameError\u001b[0m: name 'os' is not defined"
     ]
    }
   ],
   "source": [
    "### convert docx to pdf\n",
    "\n",
    "docx_dir = 'E:/ATS/data/nodejs/docx'\n",
    "save_pdf = 'E:/ATS/data/nodejs/docx/output'\n",
    "\n",
    "for filename in os.listdir(docx_dir):\n",
    "  save_name = ''.join(filename.split(\".\")[:-1])\n",
    "  if filename.endswith('.docx'):\n",
    "    fullpath = os.path.join(docx_dir, filename)\n",
    "    convert(fullpath, save_pdf + save_name + \".pdf\")"
   ]
  },
  {
   "cell_type": "code",
   "execution_count": 3,
   "id": "e9f5b20d",
   "metadata": {},
   "outputs": [],
   "source": [
    "## convert pdf to image\n",
    "\n",
    "pdf_dir ='D:/ARP_OD/PM/PM/PM/all_pdf'\n",
    "save_pdf2image= 'D:/ARP_OD/PM/PM/PM/pdf2image/'\n",
    "\n",
    "for filename in os.listdir(pdf_dir):\n",
    "  save_name = ''.join(filename.split(\".\")[:-1])\n",
    "  if filename.endswith('.pdf'):\n",
    "    fullpath = os.path.join(pdf_dir, filename)\n",
    "    images = convert_from_bytes(open(fullpath, 'rb').read(), size=1080)\n",
    "    for i, image in enumerate(images):\n",
    "      image.save(save_pdf2image + save_name+\"_\"+str(i)+\".jpg\") "
   ]
  },
  {
   "cell_type": "code",
   "execution_count": 5,
   "id": "57e89905",
   "metadata": {},
   "outputs": [],
   "source": [
    "### convert images to grey scale\n",
    "\n",
    "pdf2image = 'D:/ARP_OD/PM/PM/PM/pdf2image/'\n",
    "save_image2gs = 'D:/ARP_OD/PM/PM/PM/image2gs/'\n",
    "\n",
    "for filename in os.listdir(pdf2image):\n",
    "    if filename.endswith('.jpg'):        \n",
    "        save_name = ''.join(filename.split(\".\")[:-1])\n",
    "        fullpath = os.path.join(pdf2image, filename)\n",
    "        img = Image.open(fullpath).convert('L')\n",
    "        img.save(save_image2gs + save_name + '.jpg')"
   ]
  },
  {
   "cell_type": "code",
   "execution_count": 6,
   "id": "b887a483",
   "metadata": {},
   "outputs": [],
   "source": [
    "### convert direct images to grey scale\n",
    "\n",
    "pdf2image = 'D:/ARP_OD/PM/PM/PM/direct_images/'\n",
    "save_image2gs = 'D:/ARP_OD/PM/PM/PM/direct_img2gs/'\n",
    "\n",
    "for filename in os.listdir(pdf2image):\n",
    "    if filename.endswith('.jpg'):        \n",
    "        save_name = ''.join(filename.split(\".\")[:-1])\n",
    "        fullpath = os.path.join(pdf2image, filename)\n",
    "        img = Image.open(fullpath).convert('L')\n",
    "        img.save(save_image2gs + save_name + '.jpg')"
   ]
  },
  {
   "cell_type": "markdown",
   "id": "7b13b38b",
   "metadata": {},
   "source": [
    "###### need to provide these grey scale images to detect.py "
   ]
  },
  {
   "cell_type": "code",
   "execution_count": null,
   "id": "55b70458",
   "metadata": {},
   "outputs": [],
   "source": []
  }
 ],
 "metadata": {
  "kernelspec": {
   "display_name": "Python 3 (ipykernel)",
   "language": "python",
   "name": "python3"
  },
  "language_info": {
   "codemirror_mode": {
    "name": "ipython",
    "version": 3
   },
   "file_extension": ".py",
   "mimetype": "text/x-python",
   "name": "python",
   "nbconvert_exporter": "python",
   "pygments_lexer": "ipython3",
   "version": "3.8.12"
  }
 },
 "nbformat": 4,
 "nbformat_minor": 5
}
