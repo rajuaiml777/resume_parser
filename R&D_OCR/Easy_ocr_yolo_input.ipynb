{
 "cells": [
  {
   "cell_type": "code",
   "execution_count": null,
   "metadata": {
    "id": "YEU8tihrhkqt"
   },
   "outputs": [],
   "source": [
    "from google.colab import drive\n",
    "drive.mount('/content/drive')\n"
   ]
  },
  {
   "cell_type": "code",
   "execution_count": null,
   "metadata": {
    "id": "c2sfWJ8tDN3R"
   },
   "outputs": [],
   "source": [
    "\n",
    "!pip install easyocr --no-deps"
   ]
  },
  {
   "cell_type": "code",
   "execution_count": null,
   "metadata": {
    "id": "go2SkWISOwGy"
   },
   "outputs": [],
   "source": [
    "\n",
    "!pip install python-bidi"
   ]
  },
  {
   "cell_type": "code",
   "execution_count": null,
   "metadata": {
    "id": "aBjWQOYShv43"
   },
   "outputs": [],
   "source": [
    "#import libraries\n",
    "import os\n",
    "import easyocr\n",
    "#import numpy as np\n",
    "from os import listdir\n",
    "from pathlib import Path"
   ]
  },
  {
   "cell_type": "code",
   "execution_count": null,
   "metadata": {
    "id": "swqvq4G_k0hZ"
   },
   "outputs": [],
   "source": [
    "#load model\n",
    "reader = easyocr.Reader(['en'])"
   ]
  },
  {
   "cell_type": "code",
   "execution_count": null,
   "metadata": {
    "colab": {
     "background_save": true
    },
    "id": "PmLvNJSet-gU"
   },
   "outputs": [],
   "source": [
    "def write_to_file(OUT_DIR, names, results_files):\n",
    "    out_file_path = os.path.join(OUT_DIR, names,names+'.txt' )\n",
    "    if not(os.path.exists(os.path.join(OUT_DIR, names))):\n",
    "        os.makedirs(os.path.join(OUT_DIR, names))\n",
    "    with open(out_file_path, 'w+') as f:\n",
    "        for line in results_files:\n",
    "            f.writelines(\" \".join(line)+ \"\\n\\n\" )\n",
    "    f.close()\n",
    "    print(f\"file save to {out_file_path} \")\n",
    "\n",
    "MAIN_DIR = \"/content/drive/MyDrive/OCR11/2\"\n",
    "OUT_DIR = \"/content/drive/MyDrive/OCR11/output22\"\n",
    "\n",
    "#load model\n",
    "#reader = easyocr.Reader(['en'])\n",
    "\n",
    "for names in os.listdir(MAIN_DIR):\n",
    "    results_files = []\n",
    "    for image in os.listdir(os.path.join(MAIN_DIR, names, \"text_box\")):\n",
    "        image_path = os.path.join(MAIN_DIR, names, \"text_box\", image)\n",
    "        results = reader.readtext(image=image_path, paragraph = True, detail = 0)\n",
    "        results_files.append(results)\n",
    "\n",
    "    write_to_file(OUT_DIR, names, results_files)"
   ]
  },
  {
   "cell_type": "code",
   "execution_count": null,
   "metadata": {
    "id": "JU6oGJa04x07"
   },
   "outputs": [],
   "source": []
  },
  {
   "cell_type": "code",
   "execution_count": null,
   "metadata": {
    "id": "fL5ACR4ITNV0"
   },
   "outputs": [],
   "source": []
  },
  {
   "cell_type": "code",
   "execution_count": null,
   "metadata": {
    "id": "gmpNqnPUTNYN"
   },
   "outputs": [],
   "source": []
  },
  {
   "cell_type": "code",
   "execution_count": null,
   "metadata": {
    "id": "9cU6JSvw5pl3"
   },
   "outputs": [],
   "source": []
  },
  {
   "cell_type": "code",
   "execution_count": null,
   "metadata": {
    "id": "5GGRjlU65po_"
   },
   "outputs": [],
   "source": []
  },
  {
   "cell_type": "code",
   "execution_count": null,
   "metadata": {
    "id": "zeb9JApb5prv"
   },
   "outputs": [],
   "source": []
  }
 ],
 "metadata": {
  "accelerator": "GPU",
  "colab": {
   "collapsed_sections": [],
   "name": "Easy_ocr_yolo_input_final.ipynb",
   "provenance": []
  },
  "kernelspec": {
   "display_name": "Python 3 (ipykernel)",
   "language": "python",
   "name": "python3"
  },
  "language_info": {
   "codemirror_mode": {
    "name": "ipython",
    "version": 3
   },
   "file_extension": ".py",
   "mimetype": "text/x-python",
   "name": "python",
   "nbconvert_exporter": "python",
   "pygments_lexer": "ipython3",
   "version": "3.9.7"
  }
 },
 "nbformat": 4,
 "nbformat_minor": 1
}
