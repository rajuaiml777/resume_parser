{
  "cells": [
    {
      "cell_type": "code",
      "execution_count": null,
      "metadata": {
        "id": "pRfIOjicOycF"
      },
      "outputs": [],
      "source": [
        "!pip install keras-ocr"
      ]
    },
    {
      "cell_type": "code",
      "source": [
        ""
      ],
      "metadata": {
        "id": "EIQVeE_iCzO1"
      },
      "execution_count": null,
      "outputs": []
    },
    {
      "cell_type": "code",
      "source": [
        "from google.colab import drive\n",
        "drive.mount('/content/drive')"
      ],
      "metadata": {
        "colab": {
          "base_uri": "https://localhost:8080/"
        },
        "id": "zXcnWkroCzym",
        "outputId": "17ba87ab-14a9-481c-9a12-d880320834ed"
      },
      "execution_count": null,
      "outputs": [
        {
          "output_type": "stream",
          "name": "stdout",
          "text": [
            "Mounted at /content/drive\n"
          ]
        }
      ]
    },
    {
      "cell_type": "code",
      "execution_count": null,
      "metadata": {
        "id": "mmmdohYIO-Or"
      },
      "outputs": [],
      "source": [
        "#import libraries\n",
        "import matplotlib.pyplot as plt\n",
        "import keras_ocr\n",
        "import cv2"
      ]
    },
    {
      "cell_type": "code",
      "execution_count": null,
      "metadata": {
        "colab": {
          "base_uri": "https://localhost:8080/"
        },
        "id": "6_78iMWyO-Uw",
        "outputId": "b5f25d3d-ac9d-4033-b6de-8767cb1f0238"
      },
      "outputs": [
        {
          "output_type": "stream",
          "name": "stdout",
          "text": [
            "Looking for /root/.keras-ocr/craft_mlt_25k.h5\n",
            "Downloading /root/.keras-ocr/craft_mlt_25k.h5\n",
            "Looking for /root/.keras-ocr/crnn_kurapan.h5\n",
            "Downloading /root/.keras-ocr/crnn_kurapan.h5\n"
          ]
        }
      ],
      "source": [
        "pipline = keras_ocr.pipeline.Pipeline() #Creating a pipline "
      ]
    },
    {
      "cell_type": "code",
      "execution_count": null,
      "metadata": {
        "id": "EeA3wngzO-R4"
      },
      "outputs": [],
      "source": [
        "#load image\n",
        "#img =\"/content/drive/MyDrive/ahmed/email_cls/data/2.jpg\"\n",
        "url = [\"/content/drive/MyDrive/OCR11/OCRTEST11/AbhijeetSharma[3_1]_0.jpg\"]\n",
        "images = [ keras_ocr.tools.read(i) for i in url]"
      ]
    },
    {
      "cell_type": "code",
      "execution_count": null,
      "metadata": {
        "id": "wq7-RViwO-X4"
      },
      "outputs": [],
      "source": [
        "#getting the result\n",
        "def OCR_keras(images):\n",
        "  kerasocr_preds = pipline.recognize(images)\n",
        "  tt=[] \n",
        "  for text2 in kerasocr_preds[0]:\n",
        "    tt.append(text2[0])\n",
        "  return tt\n",
        "\n",
        "text=OCR_keras(images)"
      ]
    },
    {
      "cell_type": "code",
      "execution_count": null,
      "metadata": {
        "id": "nyWFX1M9Xe2q"
      },
      "outputs": [],
      "source": [
        "text"
      ]
    },
    {
      "cell_type": "markdown",
      "source": [
        ""
      ],
      "metadata": {
        "id": "04kGaOH8pR5e"
      }
    },
    {
      "cell_type": "code",
      "execution_count": null,
      "metadata": {
        "colab": {
          "base_uri": "https://localhost:8080/"
        },
        "id": "UnKfYGZYXe7b",
        "outputId": "4a833a84-b6b1-484e-9fa4-d5c36f0755fa"
      },
      "outputs": [
        {
          "output_type": "execute_result",
          "data": {
            "text/plain": [
              "6"
            ]
          },
          "metadata": {},
          "execution_count": 141
        }
      ],
      "source": [
        "len(text)"
      ]
    },
    {
      "cell_type": "code",
      "source": [
        "with open('/content/drive/MyDrive/OCR11/KerasOCR_Res/Keras OCR AbhijeetSharma[3_1]_0.txt', 'w') as f:\n",
        "    for line in text:\n",
        "        f.write(line)\n",
        "        f.write('\\n')"
      ],
      "metadata": {
        "id": "Fdg2pnivD1ts"
      },
      "execution_count": null,
      "outputs": []
    },
    {
      "cell_type": "code",
      "execution_count": null,
      "metadata": {
        "id": "DqT_6XtgO-do"
      },
      "outputs": [],
      "source": [
        "#kerasocr_preds\n",
        "#list = list(kerasocr_preds)"
      ]
    },
    {
      "cell_type": "code",
      "execution_count": null,
      "metadata": {
        "id": "wZYe79mPO-gb"
      },
      "outputs": [],
      "source": [
        "# cnt = 0\n",
        "# print(len(kerasocr_preds[0]))\n",
        "# for text2 in kerasocr_preds[0]:\n",
        "#   print(text2[0])\n",
        "#   cnt=cnt+1"
      ]
    },
    {
      "cell_type": "code",
      "execution_count": null,
      "metadata": {
        "id": "Siat4PJ0O-jT"
      },
      "outputs": [],
      "source": [
        ""
      ]
    },
    {
      "cell_type": "code",
      "execution_count": null,
      "metadata": {
        "id": "Ly3RLYHYO-mL"
      },
      "outputs": [],
      "source": [
        ""
      ]
    },
    {
      "cell_type": "code",
      "execution_count": null,
      "metadata": {
        "id": "0sR2fTu9O-oi"
      },
      "outputs": [],
      "source": [
        ""
      ]
    },
    {
      "cell_type": "code",
      "execution_count": null,
      "metadata": {
        "id": "mMV7TA6tO-rA"
      },
      "outputs": [],
      "source": [
        ""
      ]
    }
  ],
  "metadata": {
    "colab": {
      "collapsed_sections": [],
      "name": "Keras_ocr.ipynb",
      "provenance": []
    },
    "kernelspec": {
      "display_name": "Python 3",
      "name": "python3"
    },
    "language_info": {
      "name": "python"
    }
  },
  "nbformat": 4,
  "nbformat_minor": 0
}