{
  "cells": [
    {
      "cell_type": "code",
      "execution_count": null,
      "metadata": {
        "id": "nsYtkwupdSgj"
      },
      "outputs": [],
      "source": [
        "!pip install python-doctr[tf]"
      ]
    },
    {
      "cell_type": "code",
      "execution_count": null,
      "metadata": {
        "id": "72zyFNgYd6aw"
      },
      "outputs": [],
      "source": [
        "!pip install python-doctr[torch]"
      ]
    },
    {
      "cell_type": "code",
      "execution_count": null,
      "metadata": {
        "id": "dnqmwQJJd6YY"
      },
      "outputs": [],
      "source": [
        "#import libraries\n",
        "from doctr.models import ocr_predictor\n",
        "from doctr.io import DocumentFile"
      ]
    },
    {
      "cell_type": "code",
      "source": [
        ""
      ],
      "metadata": {
        "id": "Gc9sTw9ZK1Ah"
      },
      "execution_count": null,
      "outputs": []
    },
    {
      "cell_type": "code",
      "execution_count": null,
      "metadata": {
        "id": "3_9kgOA-d6Ug"
      },
      "outputs": [],
      "source": [
        "#load pretrained models\n",
        "model = ocr_predictor(det_arch='db_resnet50', reco_arch='crnn_vgg16_bn', pretrained=True)"
      ]
    },
    {
      "cell_type": "code",
      "execution_count": null,
      "metadata": {
        "id": "I8_q1YLrd6SB"
      },
      "outputs": [],
      "source": [
        "#load image\n",
        "doc1 = DocumentFile.from_images(\"/content/drive/MyDrive/OCR11/OCRTEST11/0cd71b5e-Naukri_RudranarayanBarik9y_0m_0.jpg\")"
      ]
    },
    {
      "cell_type": "code",
      "execution_count": null,
      "metadata": {
        "id": "WRj7MUAyd6QA"
      },
      "outputs": [],
      "source": [
        "#getting result\n",
        "result = model(doc1)"
      ]
    },
    {
      "cell_type": "code",
      "source": [
        "#!pip install opencv-contrib-python\n",
        "!pip install opencv-python\n",
        "#!pip install opencv-python"
      ],
      "metadata": {
        "colab": {
          "base_uri": "https://localhost:8080/"
        },
        "id": "pl5fwx2XmmHe",
        "outputId": "f2aec95d-9eed-4349-b269-a1096f7aadaf"
      },
      "execution_count": null,
      "outputs": [
        {
          "output_type": "stream",
          "name": "stdout",
          "text": [
            "Requirement already satisfied: opencv-python in /usr/local/lib/python3.7/dist-packages (4.1.2.30)\n",
            "Requirement already satisfied: numpy>=1.14.5 in /usr/local/lib/python3.7/dist-packages (from opencv-python) (1.19.5)\n"
          ]
        }
      ]
    },
    {
      "cell_type": "code",
      "execution_count": null,
      "metadata": {
        "id": "ilvheb82d6No"
      },
      "outputs": [],
      "source": [
        "xml_outputs = result.export_as_xml()\n",
        "xml_outputs[0[0]]"
      ]
    },
    {
      "cell_type": "code",
      "source": [
        "text = ''\n",
        "for x in xml_outputs['pages'][0].get('blocks'):\n",
        "  text = text+ ' '+' '.join([x['lines'][0]['words'][k]['value'] for k in range(len(x['lines'][0]['words']))])\n",
        "text"
      ],
      "metadata": {
        "id": "473FpoV8i3Xv"
      },
      "execution_count": null,
      "outputs": []
    },
    {
      "cell_type": "code",
      "execution_count": null,
      "metadata": {
        "id": "MupllguRd6K4"
      },
      "outputs": [],
      "source": [
        "#getting result in json format\n",
        "json_output = result.export()"
      ]
    },
    {
      "cell_type": "code",
      "source": [
        "with open(\"/content/preds.json\", \"w\") as f:\n",
        "    json.dump(result.export(), f)"
      ],
      "metadata": {
        "id": "RemtZ_PJpDEI"
      },
      "execution_count": null,
      "outputs": []
    },
    {
      "cell_type": "code",
      "source": [
        "import pandas as pd\n",
        "df = pd.read_json(\"/content/preds.json\")\n",
        "df.to_string()\n",
        "df['pages'][0]\n",
        "#df = pd.DataFrame(df)\n"
      ],
      "metadata": {
        "colab": {
          "base_uri": "https://localhost:8080/"
        },
        "id": "QIdpi09tpi4C",
        "outputId": "5dbef757-fd37-4966-e4e8-b5199d3a7988"
      },
      "execution_count": null,
      "outputs": [
        {
          "output_type": "execute_result",
          "data": {
            "text/plain": [
              "{'blocks': [{'artefacts': [],\n",
              "   'geometry': [[0.48046875, 0.0654296875], [0.5712890625, 0.1240234375]],\n",
              "   'lines': [{'geometry': [[0.48046875, 0.0654296875],\n",
              "      [0.5712890625, 0.09765625]],\n",
              "     'words': [{'confidence': 0.9998903274536131,\n",
              "       'geometry': [[0.48046875, 0.0654296875], [0.5712890625, 0.09765625]],\n",
              "       'value': 'YOUR'}]},\n",
              "    {'geometry': [[0.4833984375, 0.0947265625], [0.5712890625, 0.1240234375]],\n",
              "     'words': [{'confidence': 0.9959047436714171,\n",
              "       'geometry': [[0.4833984375, 0.0947265625],\n",
              "        [0.5712890625, 0.1240234375]],\n",
              "       'value': 'LOGO'}]}]},\n",
              "  {'artefacts': [],\n",
              "   'geometry': [[0.1484375, 0.11328125], [0.810546875, 0.3310546875]],\n",
              "   'lines': [{'geometry': [[0.1484375, 0.11328125],\n",
              "      [0.810546875, 0.3310546875]],\n",
              "     'words': [{'confidence': 0.9845809340476991,\n",
              "       'geometry': [[0.1484375, 0.11328125], [0.810546875, 0.3310546875]],\n",
              "       'value': 'SUPERDEALS'}]}]},\n",
              "  {'artefacts': [],\n",
              "   'geometry': [[0.1103515625, 0.330078125], [0.1748046875, 0.375]],\n",
              "   'lines': [{'geometry': [[0.1103515625, 0.330078125], [0.1748046875, 0.375]],\n",
              "     'words': [{'confidence': 0.07888520509004501,\n",
              "       'geometry': [[0.1103515625, 0.330078125], [0.1748046875, 0.375]],\n",
              "       'value': 'm'}]}]},\n",
              "  {'artefacts': [],\n",
              "   'geometry': [[0.2890625, 0.5693359375], [0.662109375, 0.76171875]],\n",
              "   'lines': [{'geometry': [[0.2890625, 0.5693359375],\n",
              "      [0.662109375, 0.76171875]],\n",
              "     'words': [{'confidence': 0.5889184474945061,\n",
              "       'geometry': [[0.2890625, 0.5693359375], [0.662109375, 0.76171875]],\n",
              "       'value': '50%'}]}]},\n",
              "  {'artefacts': [],\n",
              "   'geometry': [[0.3330078125, 0.7451171875], [0.6328125, 0.767578125]],\n",
              "   'lines': [{'geometry': [[0.3330078125, 0.7451171875],\n",
              "      [0.6328125, 0.767578125]],\n",
              "     'words': [{'confidence': 0.6193746924400331,\n",
              "       'geometry': [[0.3330078125, 0.7451171875], [0.3828125, 0.767578125]],\n",
              "       'value': 'FOR.'},\n",
              "      {'confidence': 0.9993479251861571,\n",
              "       'geometry': [[0.3798828125, 0.7451171875], [0.4248046875, 0.767578125]],\n",
              "       'value': 'ALL'},\n",
              "      {'confidence': 0.9909890294075011,\n",
              "       'geometry': [[0.4267578125, 0.7470703125], [0.5107421875, 0.765625]],\n",
              "       'value': 'ROOMS'},\n",
              "      {'confidence': 0.883354902267456,\n",
              "       'geometry': [[0.515625, 0.74609375], [0.6328125, 0.7666015625]],\n",
              "       'value': 'CATEGORY'}]}]},\n",
              "  {'artefacts': [],\n",
              "   'geometry': [[0.337890625, 0.806640625], [0.6328125, 0.8828125]],\n",
              "   'lines': [{'geometry': [[0.3603515625, 0.806640625],\n",
              "      [0.603515625, 0.828125]],\n",
              "     'words': [{'confidence': 0.9997387528419491,\n",
              "       'geometry': [[0.3603515625, 0.8076171875],\n",
              "        [0.40625000000000006, 0.8271484375]],\n",
              "       'value': 'FOR'},\n",
              "      {'confidence': 0.6503547430038451,\n",
              "       'geometry': [[0.408203125, 0.8076171875], [0.4873046875, 0.826171875]],\n",
              "       'value': 'LIMITED'},\n",
              "      {'confidence': 0.997546374797821,\n",
              "       'geometry': [[0.4892578125, 0.806640625], [0.541015625, 0.828125]],\n",
              "       'value': 'TIME'},\n",
              "      {'confidence': 0.999651968479156,\n",
              "       'geometry': [[0.54296875, 0.806640625], [0.603515625, 0.828125]],\n",
              "       'value': 'ONLY'}]},\n",
              "    {'geometry': [[0.337890625, 0.853515625], [0.6328125, 0.8828125]],\n",
              "     'words': [{'confidence': 0.9985990524291991,\n",
              "       'geometry': [[0.337890625, 0.85546875], [0.3984375, 0.876953125]],\n",
              "       'value': 'Term'},\n",
              "      {'confidence': 0.8372566103935241,\n",
              "       'geometry': [[0.3994140625, 0.85546875], [0.4443359375, 0.8779296875]],\n",
              "       'value': 'and'},\n",
              "      {'confidence': 0.7532744407653801,\n",
              "       'geometry': [[0.4482421875, 0.8564453125], [0.564453125, 0.876953125]],\n",
              "       'value': 'Conditions'},\n",
              "      {'confidence': 0.9998617172241211,\n",
              "       'geometry': [[0.56640625, 0.853515625], [0.6328125, 0.8828125]],\n",
              "       'value': 'Apply'}]}]},\n",
              "  {'artefacts': [],\n",
              "   'geometry': [[0.1953125, 0.9423828125], [0.7685546875, 0.9755859375]],\n",
              "   'lines': [{'geometry': [[0.1953125, 0.9423828125],\n",
              "      [0.7685546875, 0.9755859375]],\n",
              "     'words': [{'confidence': 0.999940872192382,\n",
              "       'geometry': [[0.1953125, 0.9423828125], [0.275390625, 0.9716796875]],\n",
              "       'value': 'Book'},\n",
              "      {'confidence': 0.9855899214744561,\n",
              "       'geometry': [[0.28125, 0.9433593750000001], [0.375, 0.9716796875]],\n",
              "       'value': 'Direct'},\n",
              "      {'confidence': 0.999879837036132,\n",
              "       'geometry': [[0.37890625, 0.9433593750000001],\n",
              "        [0.4150390625, 0.9736328125]],\n",
              "       'value': 'at'},\n",
              "      {'confidence': 0.49375408887863104,\n",
              "       'geometry': [[0.4189453125, 0.9443359375],\n",
              "        [0.7685546875, 0.9755859375]],\n",
              "       'value': 'www.yourdomain.com'}]}]}],\n",
              " 'dimensions': [690, 690],\n",
              " 'language': {'confidence': None, 'value': None},\n",
              " 'orientation': {'confidence': None, 'value': None},\n",
              " 'page_idx': 0}"
            ]
          },
          "metadata": {},
          "execution_count": 100
        }
      ]
    },
    {
      "cell_type": "code",
      "execution_count": null,
      "metadata": {
        "id": "MJeIuxW3d6ID"
      },
      "outputs": [],
      "source": [
        "json_output.get(\"CreativeDesign\")"
      ]
    },
    {
      "cell_type": "code",
      "source": [
        "json_output"
      ],
      "metadata": {
        "id": "2Njw4poPV1fe"
      },
      "execution_count": null,
      "outputs": []
    },
    {
      "cell_type": "code",
      "execution_count": null,
      "metadata": {
        "colab": {
          "base_uri": "https://localhost:8080/",
          "height": 35
        },
        "id": "mNnfq7b0ccNe",
        "outputId": "428e5178-377f-46cc-fb98-d585df83dbe0"
      },
      "outputs": [
        {
          "output_type": "execute_result",
          "data": {
            "application/vnd.google.colaboratory.intrinsic+json": {
              "type": "string"
            },
            "text/plain": [
              "' YOUR SUPERDEALS m 50% FOR. ALL ROOMS CATEGORY FOR LIMITED TIME ONLY Book Direct at www.yourdomain.com'"
            ]
          },
          "metadata": {},
          "execution_count": 54
        }
      ],
      "source": [
        "text = ''\n",
        "for x in json_output['pages'][0].get('blocks'):\n",
        "  text = text+ ' '+' '.join([x['lines'][0]['words'][k]['value'] for k in range(len(x['lines'][0]['words']))])\n",
        "text"
      ]
    },
    {
      "cell_type": "code",
      "execution_count": null,
      "metadata": {
        "id": "ogPgU0MqcaQo"
      },
      "outputs": [],
      "source": [
        "text = ''\n",
        "for x in json_output['pages'][0].get('blocks'):\n",
        "  text = text+ ' '+' '.join([x['lines'][0]['words'][k]['value'] for k in range(len(x['lines'][0]['words']))])"
      ]
    },
    {
      "cell_type": "code",
      "source": [
        "json_output.keys()"
      ],
      "metadata": {
        "colab": {
          "base_uri": "https://localhost:8080/"
        },
        "id": "pFE1A5NVYk1a",
        "outputId": "a2346fa3-4176-4636-dc4a-badd69d0a002"
      },
      "execution_count": null,
      "outputs": [
        {
          "output_type": "execute_result",
          "data": {
            "text/plain": [
              "dict_keys(['pages'])"
            ]
          },
          "metadata": {},
          "execution_count": 31
        }
      ]
    },
    {
      "cell_type": "code",
      "source": [
        ""
      ],
      "metadata": {
        "id": "BQj_L6rUYkt7"
      },
      "execution_count": null,
      "outputs": []
    },
    {
      "cell_type": "code",
      "source": [
        ""
      ],
      "metadata": {
        "id": "-DyG_gG3Ykpg"
      },
      "execution_count": null,
      "outputs": []
    },
    {
      "cell_type": "code",
      "source": [
        "import json"
      ],
      "metadata": {
        "id": "QCUx63B0V1bR"
      },
      "execution_count": null,
      "outputs": []
    },
    {
      "cell_type": "code",
      "source": [
        "f = open('json_output.json')"
      ],
      "metadata": {
        "id": "_5weqjIeV1Rr"
      },
      "execution_count": null,
      "outputs": []
    },
    {
      "cell_type": "code",
      "source": [
        ""
      ],
      "metadata": {
        "id": "_fY6DecIV3cg"
      },
      "execution_count": null,
      "outputs": []
    },
    {
      "cell_type": "code",
      "source": [
        ""
      ],
      "metadata": {
        "id": "i62CBkDbV3Pz"
      },
      "execution_count": null,
      "outputs": []
    },
    {
      "cell_type": "code",
      "execution_count": null,
      "metadata": {
        "id": "AmJSS-weeYMd"
      },
      "outputs": [],
      "source": [
        "#for i in range(4):\n",
        "#print([value['lines'][0].get('words')[0].get('value') for value in json_output['pages'][0].get('blocks')])\n"
      ]
    },
    {
      "cell_type": "code",
      "source": [
        "result\n"
      ],
      "metadata": {
        "id": "eMryP2J9VjoL"
      },
      "execution_count": null,
      "outputs": []
    },
    {
      "cell_type": "code",
      "execution_count": null,
      "metadata": {
        "id": "MKNCMuYT4Git"
      },
      "outputs": [],
      "source": [
        "text = ''\n",
        "for x in json_output['pages'][0].get('blocks'):\n",
        "  text = text+ ' '+' '.join([x['lines'][0]['words'][k]['value'] for k in range(len(x['lines'][0]['words']))])"
      ]
    },
    {
      "cell_type": "code",
      "execution_count": null,
      "metadata": {
        "colab": {
          "base_uri": "https://localhost:8080/",
          "height": 35
        },
        "id": "6ItOrI9r5mOl",
        "outputId": "a9112807-1b7e-4788-d134-4f5aa508c428"
      },
      "outputs": [
        {
          "data": {
            "application/vnd.google.colaboratory.intrinsic+json": {
              "type": "string"
            },
            "text/plain": [
              "' ENJOYING GREAT COFFEE SEE HOW WE CoffeeShop Black Coffee - Posterm - Brochure Showroom Name CreativeDesign'"
            ]
          },
          "execution_count": 14,
          "metadata": {},
          "output_type": "execute_result"
        }
      ],
      "source": [
        "text"
      ]
    },
    {
      "cell_type": "code",
      "execution_count": null,
      "metadata": {
        "id": "uh2alXSX377E"
      },
      "outputs": [],
      "source": [
        "#text1 =' '.join([' '.join([x['lines'][0]['words'][k]['value'] for k in range(len(x['lines'][0]['words']))]) for x in json_output['pages'][0].get('blocks')])\n",
        "text1 = ([' '.join([x['lines'][0]['words'][k]['value'] for k in range(len(x['lines'][0]['words']))]) for x in json_output['pages'][0].get('blocks')])"
      ]
    },
    {
      "cell_type": "code",
      "execution_count": null,
      "metadata": {
        "colab": {
          "base_uri": "https://localhost:8080/"
        },
        "id": "jaaO5vFN5Kjp",
        "outputId": "36b9c30f-d91c-4b06-8bd6-7e3816b2e955"
      },
      "outputs": [
        {
          "data": {
            "text/plain": [
              "['ENJOYING GREAT COFFEE',\n",
              " 'SEE HOW WE',\n",
              " 'CoffeeShop',\n",
              " 'Black',\n",
              " 'Coffee',\n",
              " '-',\n",
              " 'Posterm',\n",
              " '-',\n",
              " 'Brochure',\n",
              " 'Showroom Name',\n",
              " 'CreativeDesign']"
            ]
          },
          "execution_count": 88,
          "metadata": {},
          "output_type": "execute_result"
        }
      ],
      "source": [
        "text1"
      ]
    },
    {
      "cell_type": "code",
      "execution_count": null,
      "metadata": {
        "id": "NlizYyCm5s57"
      },
      "outputs": [],
      "source": [
        ""
      ]
    },
    {
      "cell_type": "code",
      "execution_count": null,
      "metadata": {
        "id": "lcKfB9Ss8h1q"
      },
      "outputs": [],
      "source": [
        ""
      ]
    },
    {
      "cell_type": "code",
      "execution_count": null,
      "metadata": {
        "id": "GH1mR_548hzD"
      },
      "outputs": [],
      "source": [
        ""
      ]
    },
    {
      "cell_type": "code",
      "execution_count": null,
      "metadata": {
        "id": "m5xeKMz98hwL"
      },
      "outputs": [],
      "source": [
        ""
      ]
    }
  ],
  "metadata": {
    "colab": {
      "collapsed_sections": [],
      "name": "docTR_text.ipynb",
      "provenance": []
    },
    "kernelspec": {
      "display_name": "Python 3",
      "name": "python3"
    },
    "language_info": {
      "name": "python"
    },
    "accelerator": "GPU"
  },
  "nbformat": 4,
  "nbformat_minor": 0
}