{
 "cells": [
  {
   "cell_type": "code",
   "execution_count": 1,
   "id": "2f9a49bd",
   "metadata": {},
   "outputs": [],
   "source": [
    "import os\n",
    "import pandas as pd\n",
    "import numpy as np\n",
    "from scipy.stats import randint\n",
    "import seaborn as sns # used for plot interactive graph.\n",
    "import matplotlib.pyplot as plt\n",
    "import seaborn as sns\n",
    "from io import StringIO\n",
    "from sklearn.feature_extraction.text import TfidfVectorizer\n",
    "from sklearn.feature_selection import chi2\n",
    "from IPython.display import display\n",
    "from sklearn.model_selection import train_test_split\n",
    "from sklearn.feature_extraction.text import TfidfTransformer\n",
    "from sklearn.naive_bayes import MultinomialNB\n",
    "from sklearn.linear_model import LogisticRegression\n",
    "from sklearn.ensemble import RandomForestClassifier\n",
    "from sklearn.svm import LinearSVC\n",
    "from sklearn.model_selection import cross_val_score\n",
    "from sklearn.metrics import confusion_matrix\n",
    "from sklearn import metrics"
   ]
  },
  {
   "cell_type": "code",
   "execution_count": 395,
   "id": "276e681f",
   "metadata": {},
   "outputs": [],
   "source": [
    "df1 = pd.read_excel(\"E:/APS/final_classification_data2.xlsx\")"
   ]
  },
  {
   "cell_type": "code",
   "execution_count": 396,
   "id": "54cc92e5",
   "metadata": {},
   "outputs": [
    {
     "data": {
      "text/plain": [
       "(9224, 2)"
      ]
     },
     "execution_count": 396,
     "metadata": {},
     "output_type": "execute_result"
    }
   ],
   "source": [
    "df1.shape"
   ]
  },
  {
   "cell_type": "code",
   "execution_count": 397,
   "id": "c6ea9bc5",
   "metadata": {},
   "outputs": [],
   "source": [
    "#df1 = df1.drop_duplicates()"
   ]
  },
  {
   "cell_type": "code",
   "execution_count": 398,
   "id": "31cee238",
   "metadata": {},
   "outputs": [],
   "source": [
    "#df1.shape"
   ]
  },
  {
   "cell_type": "code",
   "execution_count": 399,
   "id": "94bedb5e",
   "metadata": {},
   "outputs": [],
   "source": [
    "#df1.to_excel('data222.xlsx')"
   ]
  },
  {
   "cell_type": "code",
   "execution_count": 400,
   "id": "66b28e3f",
   "metadata": {},
   "outputs": [],
   "source": [
    "df2 = pd.read_excel(r\"E:\\APS\\linkedin_aws.xlsx\")"
   ]
  },
  {
   "cell_type": "code",
   "execution_count": 401,
   "id": "ac37f331",
   "metadata": {},
   "outputs": [],
   "source": [
    "df2 = pd.read_excel(r\"E:\\APS\\linkedin_aws.xlsx\")"
   ]
  },
  {
   "cell_type": "code",
   "execution_count": 402,
   "id": "52116ace",
   "metadata": {},
   "outputs": [],
   "source": [
    "df3 = pd.read_excel(r\"E:\\APS\\linkedin_datascience.xlsx\")"
   ]
  },
  {
   "cell_type": "code",
   "execution_count": 403,
   "id": "f7bb39c8",
   "metadata": {},
   "outputs": [],
   "source": [
    "df4 = pd.read_excel(r\"E:\\APS\\linkedin_devops.xlsx\")"
   ]
  },
  {
   "cell_type": "code",
   "execution_count": 404,
   "id": "d217d9b8",
   "metadata": {},
   "outputs": [],
   "source": [
    "df5 = pd.read_excel(r\"E:\\APS\\linkedin_degital_marketing.xlsx\")"
   ]
  },
  {
   "cell_type": "code",
   "execution_count": 405,
   "id": "d3e1b237",
   "metadata": {},
   "outputs": [],
   "source": [
    "df7 = pd.read_excel(r\"E:\\APS\\linkedin_business_analyst.xlsx\")"
   ]
  },
  {
   "cell_type": "code",
   "execution_count": 406,
   "id": "8c6a42b3",
   "metadata": {},
   "outputs": [],
   "source": [
    "df8 = pd.read_excel(r\"E:\\APS\\linkedin_product_manager.xlsx\")"
   ]
  },
  {
   "cell_type": "code",
   "execution_count": 407,
   "id": "3be5b0a5",
   "metadata": {},
   "outputs": [],
   "source": [
    "df9 = pd.read_excel(r\"E:\\APS\\linkedin_testing.xlsx\")"
   ]
  },
  {
   "cell_type": "code",
   "execution_count": 408,
   "id": "5a4273d0",
   "metadata": {},
   "outputs": [],
   "source": [
    "df10 = pd.read_excel(r\"E:\\APS\\linkedin_hr2.xlsx\")"
   ]
  },
  {
   "cell_type": "code",
   "execution_count": 410,
   "id": "8a08a6aa",
   "metadata": {},
   "outputs": [],
   "source": [
    "df111 = pd.read_excel(r\"E:\\APS\\linkedin_kaggle.xlsx\")"
   ]
  },
  {
   "cell_type": "code",
   "execution_count": null,
   "id": "adcabaf6",
   "metadata": {},
   "outputs": [],
   "source": []
  },
  {
   "cell_type": "code",
   "execution_count": null,
   "id": "11a52e47",
   "metadata": {},
   "outputs": [],
   "source": []
  },
  {
   "cell_type": "code",
   "execution_count": null,
   "id": "243ffc15",
   "metadata": {},
   "outputs": [],
   "source": []
  },
  {
   "cell_type": "code",
   "execution_count": 375,
   "id": "d2db972f",
   "metadata": {},
   "outputs": [],
   "source": [
    "df11 = pd.read_excel(r\"E:\\APS\\dataset\\data222.xlsx\")\n",
    "df21 = pd.read_excel(r\"E:\\APS\\dataset\\linkedin_aws.xlsx\")\n",
    "\n",
    "df31 = pd.read_excel(r\"E:\\APS\\dataset\\linkedin_datascience.xlsx\")\n",
    "\n",
    "df41 = pd.read_excel(r\"E:\\APS\\dataset\\linkedin_devops.xlsx\")\n",
    "\n",
    "df51 = pd.read_excel(r\"E:\\APS\\dataset\\linkedin_degital_marketing.xlsx\")\n",
    "\n",
    "df71 = pd.read_excel(r\"E:\\APS\\dataset\\linkedin_business_analyst.xlsx\")\n",
    "\n",
    "df81 = pd.read_excel(r\"E:\\APS\\dataset\\linkedin_product_manager.xlsx\")\n",
    "\n",
    "df91 = pd.read_excel(r\"E:\\APS\\dataset\\linkedin_testing.xlsx\")"
   ]
  },
  {
   "cell_type": "code",
   "execution_count": null,
   "id": "8879d34b",
   "metadata": {},
   "outputs": [],
   "source": []
  },
  {
   "cell_type": "code",
   "execution_count": 376,
   "id": "7f2e4e1f",
   "metadata": {},
   "outputs": [],
   "source": [
    "frames = [df11, df21, df31, df41, df51, df71, df81, df91]\n",
    "df = pd.concat(frames)"
   ]
  },
  {
   "cell_type": "code",
   "execution_count": null,
   "id": "1f24c389",
   "metadata": {},
   "outputs": [],
   "source": []
  },
  {
   "cell_type": "code",
   "execution_count": 411,
   "id": "59ac876c",
   "metadata": {},
   "outputs": [],
   "source": [
    "frames = [df1, df2, df3, df4, df5, df7, df8, df9, df10, df111]\n",
    "  "
   ]
  },
  {
   "cell_type": "code",
   "execution_count": 412,
   "id": "3da99019",
   "metadata": {},
   "outputs": [],
   "source": [
    "df = pd.concat(frames)\n"
   ]
  },
  {
   "cell_type": "code",
   "execution_count": 413,
   "id": "f4555b7c",
   "metadata": {},
   "outputs": [
    {
     "data": {
      "text/plain": [
       "(19241, 2)"
      ]
     },
     "execution_count": 413,
     "metadata": {},
     "output_type": "execute_result"
    }
   ],
   "source": [
    "df.shape"
   ]
  },
  {
   "cell_type": "code",
   "execution_count": 414,
   "id": "58f06170",
   "metadata": {},
   "outputs": [
    {
     "data": {
      "text/html": [
       "<div>\n",
       "<style scoped>\n",
       "    .dataframe tbody tr th:only-of-type {\n",
       "        vertical-align: middle;\n",
       "    }\n",
       "\n",
       "    .dataframe tbody tr th {\n",
       "        vertical-align: top;\n",
       "    }\n",
       "\n",
       "    .dataframe thead th {\n",
       "        text-align: right;\n",
       "    }\n",
       "</style>\n",
       "<table border=\"1\" class=\"dataframe\">\n",
       "  <thead>\n",
       "    <tr style=\"text-align: right;\">\n",
       "      <th></th>\n",
       "      <th>class</th>\n",
       "      <th>text</th>\n",
       "    </tr>\n",
       "  </thead>\n",
       "  <tbody>\n",
       "    <tr>\n",
       "      <th>0</th>\n",
       "      <td>user_info</td>\n",
       "      <td>['KARRI.KUMAR,Lead User Experience Designer Po...</td>\n",
       "    </tr>\n",
       "    <tr>\n",
       "      <th>1</th>\n",
       "      <td>projects</td>\n",
       "      <td>[\"PROJECTS Home / Small and Large Enterprise P...</td>\n",
       "    </tr>\n",
       "  </tbody>\n",
       "</table>\n",
       "</div>"
      ],
      "text/plain": [
       "       class                                               text\n",
       "0  user_info  ['KARRI.KUMAR,Lead User Experience Designer Po...\n",
       "1   projects  [\"PROJECTS Home / Small and Large Enterprise P..."
      ]
     },
     "execution_count": 414,
     "metadata": {},
     "output_type": "execute_result"
    }
   ],
   "source": [
    "df.head(2)"
   ]
  },
  {
   "cell_type": "code",
   "execution_count": 415,
   "id": "d9cdb56b",
   "metadata": {},
   "outputs": [],
   "source": [
    "df.columns = ['label', 'text']"
   ]
  },
  {
   "cell_type": "code",
   "execution_count": 416,
   "id": "0ebcdf5a",
   "metadata": {},
   "outputs": [
    {
     "data": {
      "text/html": [
       "<div>\n",
       "<style scoped>\n",
       "    .dataframe tbody tr th:only-of-type {\n",
       "        vertical-align: middle;\n",
       "    }\n",
       "\n",
       "    .dataframe tbody tr th {\n",
       "        vertical-align: top;\n",
       "    }\n",
       "\n",
       "    .dataframe thead th {\n",
       "        text-align: right;\n",
       "    }\n",
       "</style>\n",
       "<table border=\"1\" class=\"dataframe\">\n",
       "  <thead>\n",
       "    <tr style=\"text-align: right;\">\n",
       "      <th></th>\n",
       "      <th>label</th>\n",
       "      <th>text</th>\n",
       "    </tr>\n",
       "  </thead>\n",
       "  <tbody>\n",
       "    <tr>\n",
       "      <th>0</th>\n",
       "      <td>user_info</td>\n",
       "      <td>['KARRI.KUMAR,Lead User Experience Designer Po...</td>\n",
       "    </tr>\n",
       "    <tr>\n",
       "      <th>1</th>\n",
       "      <td>projects</td>\n",
       "      <td>[\"PROJECTS Home / Small and Large Enterprise P...</td>\n",
       "    </tr>\n",
       "  </tbody>\n",
       "</table>\n",
       "</div>"
      ],
      "text/plain": [
       "       label                                               text\n",
       "0  user_info  ['KARRI.KUMAR,Lead User Experience Designer Po...\n",
       "1   projects  [\"PROJECTS Home / Small and Large Enterprise P..."
      ]
     },
     "execution_count": 416,
     "metadata": {},
     "output_type": "execute_result"
    }
   ],
   "source": [
    "df.head(2)"
   ]
  },
  {
   "cell_type": "code",
   "execution_count": 417,
   "id": "83ba3b2c",
   "metadata": {},
   "outputs": [
    {
     "data": {
      "text/plain": [
       "Index(['label', 'text'], dtype='object')"
      ]
     },
     "execution_count": 417,
     "metadata": {},
     "output_type": "execute_result"
    }
   ],
   "source": [
    "df.columns"
   ]
  },
  {
   "cell_type": "code",
   "execution_count": 418,
   "id": "a5e83bb1",
   "metadata": {},
   "outputs": [
    {
     "data": {
      "text/plain": [
       "(19241, 2)"
      ]
     },
     "execution_count": 418,
     "metadata": {},
     "output_type": "execute_result"
    }
   ],
   "source": [
    "df.shape"
   ]
  },
  {
   "cell_type": "code",
   "execution_count": 419,
   "id": "7c1a60b3",
   "metadata": {},
   "outputs": [],
   "source": [
    "#df.class.unique().values"
   ]
  },
  {
   "cell_type": "code",
   "execution_count": 420,
   "id": "a4e32d9a",
   "metadata": {},
   "outputs": [
    {
     "data": {
      "text/plain": [
       "label     0\n",
       "text     23\n",
       "dtype: int64"
      ]
     },
     "execution_count": 420,
     "metadata": {},
     "output_type": "execute_result"
    }
   ],
   "source": [
    "df.isna().sum()"
   ]
  },
  {
   "cell_type": "code",
   "execution_count": 421,
   "id": "d74375bd",
   "metadata": {},
   "outputs": [],
   "source": [
    "df = df.dropna()"
   ]
  },
  {
   "cell_type": "code",
   "execution_count": 422,
   "id": "0d87f39b",
   "metadata": {},
   "outputs": [
    {
     "data": {
      "text/plain": [
       "label    0\n",
       "text     0\n",
       "dtype: int64"
      ]
     },
     "execution_count": 422,
     "metadata": {},
     "output_type": "execute_result"
    }
   ],
   "source": [
    "df.isna().sum()"
   ]
  },
  {
   "cell_type": "code",
   "execution_count": 423,
   "id": "d2759a0d",
   "metadata": {},
   "outputs": [],
   "source": [
    "df100 = df.drop_duplicates()"
   ]
  },
  {
   "cell_type": "code",
   "execution_count": 424,
   "id": "bd69fb45",
   "metadata": {},
   "outputs": [
    {
     "data": {
      "text/plain": [
       "(12784, 2)"
      ]
     },
     "execution_count": 424,
     "metadata": {},
     "output_type": "execute_result"
    }
   ],
   "source": [
    "df100.shape"
   ]
  },
  {
   "cell_type": "code",
   "execution_count": 425,
   "id": "4433e3b4",
   "metadata": {},
   "outputs": [],
   "source": [
    "df100.to_excel('finaldata555.xlsx')"
   ]
  },
  {
   "cell_type": "code",
   "execution_count": 426,
   "id": "9404837f",
   "metadata": {},
   "outputs": [
    {
     "data": {
      "text/html": [
       "<div>\n",
       "<style scoped>\n",
       "    .dataframe tbody tr th:only-of-type {\n",
       "        vertical-align: middle;\n",
       "    }\n",
       "\n",
       "    .dataframe tbody tr th {\n",
       "        vertical-align: top;\n",
       "    }\n",
       "\n",
       "    .dataframe thead th {\n",
       "        text-align: right;\n",
       "    }\n",
       "</style>\n",
       "<table border=\"1\" class=\"dataframe\">\n",
       "  <thead>\n",
       "    <tr style=\"text-align: right;\">\n",
       "      <th></th>\n",
       "      <th>label</th>\n",
       "      <th>text</th>\n",
       "    </tr>\n",
       "  </thead>\n",
       "  <tbody>\n",
       "    <tr>\n",
       "      <th>0</th>\n",
       "      <td>user_info</td>\n",
       "      <td>['KARRI.KUMAR,Lead User Experience Designer Po...</td>\n",
       "    </tr>\n",
       "    <tr>\n",
       "      <th>1</th>\n",
       "      <td>projects</td>\n",
       "      <td>[\"PROJECTS Home / Small and Large Enterprise P...</td>\n",
       "    </tr>\n",
       "    <tr>\n",
       "      <th>2</th>\n",
       "      <td>projects</td>\n",
       "      <td>['Smart Dock (Computer and Hardware) Role: Lea...</td>\n",
       "    </tr>\n",
       "    <tr>\n",
       "      <th>3</th>\n",
       "      <td>projects</td>\n",
       "      <td>['EXPERIENCE\\n', '\\n', 'Baker Hughes, Staff UX...</td>\n",
       "    </tr>\n",
       "    <tr>\n",
       "      <th>4</th>\n",
       "      <td>projects</td>\n",
       "      <td>['Project: Insightl Role: Lead UX Designer Wit...</td>\n",
       "    </tr>\n",
       "    <tr>\n",
       "      <th>...</th>\n",
       "      <td>...</td>\n",
       "      <td>...</td>\n",
       "    </tr>\n",
       "    <tr>\n",
       "      <th>95</th>\n",
       "      <td>skills</td>\n",
       "      <td>['SOFT SKILLS\\n', '\\n', 'Planner\\n', '\\n', 'Pr...</td>\n",
       "    </tr>\n",
       "    <tr>\n",
       "      <th>96</th>\n",
       "      <td>skills</td>\n",
       "      <td>['TECHNICAL SKILLS\\n', '\\n', 'Graphic  Designi...</td>\n",
       "    </tr>\n",
       "    <tr>\n",
       "      <th>97</th>\n",
       "      <td>user_info</td>\n",
       "      <td>['V. SRAVAN KUMAR\\n', '\\n', 'Senior UI UX Desi...</td>\n",
       "    </tr>\n",
       "    <tr>\n",
       "      <th>98</th>\n",
       "      <td>personal_details</td>\n",
       "      <td>['PERSONAL DETAILS\\n', '\\n', 'Date of Birth: 2...</td>\n",
       "    </tr>\n",
       "    <tr>\n",
       "      <th>99</th>\n",
       "      <td>user_info</td>\n",
       "      <td>['CONTACT DETAILS\\n', '\\n', 'vsravan. 45@gmail...</td>\n",
       "    </tr>\n",
       "  </tbody>\n",
       "</table>\n",
       "<p>100 rows × 2 columns</p>\n",
       "</div>"
      ],
      "text/plain": [
       "               label                                               text\n",
       "0          user_info  ['KARRI.KUMAR,Lead User Experience Designer Po...\n",
       "1           projects  [\"PROJECTS Home / Small and Large Enterprise P...\n",
       "2           projects  ['Smart Dock (Computer and Hardware) Role: Lea...\n",
       "3           projects  ['EXPERIENCE\\n', '\\n', 'Baker Hughes, Staff UX...\n",
       "4           projects  ['Project: Insightl Role: Lead UX Designer Wit...\n",
       "..               ...                                                ...\n",
       "95            skills  ['SOFT SKILLS\\n', '\\n', 'Planner\\n', '\\n', 'Pr...\n",
       "96            skills  ['TECHNICAL SKILLS\\n', '\\n', 'Graphic  Designi...\n",
       "97         user_info  ['V. SRAVAN KUMAR\\n', '\\n', 'Senior UI UX Desi...\n",
       "98  personal_details  ['PERSONAL DETAILS\\n', '\\n', 'Date of Birth: 2...\n",
       "99         user_info  ['CONTACT DETAILS\\n', '\\n', 'vsravan. 45@gmail...\n",
       "\n",
       "[100 rows x 2 columns]"
      ]
     },
     "execution_count": 426,
     "metadata": {},
     "output_type": "execute_result"
    }
   ],
   "source": [
    "df100.head(100)"
   ]
  },
  {
   "cell_type": "code",
   "execution_count": 2,
   "id": "588989a9",
   "metadata": {},
   "outputs": [],
   "source": [
    "df100 = pd.read_excel(r\"E:\\RAJU\\finaldata555.xlsx\")"
   ]
  },
  {
   "cell_type": "code",
   "execution_count": 3,
   "id": "ecfcb954",
   "metadata": {},
   "outputs": [
    {
     "name": "stdout",
     "output_type": "stream",
     "text": [
      "['certifications', 'declaration', 'education', 'personal_details', 'projects', 'skills', 'summary', 'user_info']\n"
     ]
    }
   ],
   "source": [
    "a = df100['label'].unique()\n",
    "print(sorted(a))"
   ]
  },
  {
   "cell_type": "code",
   "execution_count": 345,
   "id": "d2815bcf",
   "metadata": {},
   "outputs": [
    {
     "data": {
      "text/plain": [
       "0      certifications\n",
       "1      certifications\n",
       "2      certifications\n",
       "3      certifications\n",
       "4      certifications\n",
       "            ...      \n",
       "944         user_info\n",
       "945         user_info\n",
       "946         user_info\n",
       "947         user_info\n",
       "948         user_info\n",
       "Name: label, Length: 8952, dtype: object"
      ]
     },
     "execution_count": 345,
     "metadata": {},
     "output_type": "execute_result"
    }
   ],
   "source": [
    "#df.get('label')"
   ]
  },
  {
   "cell_type": "code",
   "execution_count": 429,
   "id": "6288cb4d",
   "metadata": {},
   "outputs": [
    {
     "name": "stdout",
     "output_type": "stream",
     "text": [
      "['certifications', 'declaration', 'education', 'personal_details', 'projects', 'skills', 'summary', 'user_info']\n"
     ]
    }
   ],
   "source": [
    "# a = df['label'].unique()\n",
    "# print(sorted(a))"
   ]
  },
  {
   "cell_type": "code",
   "execution_count": 430,
   "id": "f5c0d658",
   "metadata": {},
   "outputs": [
    {
     "data": {
      "text/plain": [
       "projects            8103\n",
       "user_info           3115\n",
       "skills              2807\n",
       "summary             2219\n",
       "education           1689\n",
       "certifications       672\n",
       "personal_details     474\n",
       "declaration          139\n",
       "Name: label, dtype: int64"
      ]
     },
     "execution_count": 430,
     "metadata": {},
     "output_type": "execute_result"
    }
   ],
   "source": [
    "#df['label'].value_counts()"
   ]
  },
  {
   "cell_type": "code",
   "execution_count": 5,
   "id": "f2005fae",
   "metadata": {},
   "outputs": [
    {
     "data": {
      "text/plain": [
       "projects            4564\n",
       "user_info           2473\n",
       "skills              2095\n",
       "summary             1722\n",
       "education           1127\n",
       "certifications       477\n",
       "personal_details     261\n",
       "declaration           65\n",
       "Name: label, dtype: int64"
      ]
     },
     "execution_count": 5,
     "metadata": {},
     "output_type": "execute_result"
    }
   ],
   "source": [
    "df100['label'].value_counts()"
   ]
  },
  {
   "cell_type": "code",
   "execution_count": 6,
   "id": "e2d91ea4",
   "metadata": {},
   "outputs": [
    {
     "data": {
      "text/html": [
       "<div>\n",
       "<style scoped>\n",
       "    .dataframe tbody tr th:only-of-type {\n",
       "        vertical-align: middle;\n",
       "    }\n",
       "\n",
       "    .dataframe tbody tr th {\n",
       "        vertical-align: top;\n",
       "    }\n",
       "\n",
       "    .dataframe thead th {\n",
       "        text-align: right;\n",
       "    }\n",
       "</style>\n",
       "<table border=\"1\" class=\"dataframe\">\n",
       "  <thead>\n",
       "    <tr style=\"text-align: right;\">\n",
       "      <th></th>\n",
       "      <th>label</th>\n",
       "      <th>text</th>\n",
       "    </tr>\n",
       "  </thead>\n",
       "  <tbody>\n",
       "    <tr>\n",
       "      <th>0</th>\n",
       "      <td>user_info</td>\n",
       "      <td>['KARRI.KUMAR,Lead User Experience Designer Po...</td>\n",
       "    </tr>\n",
       "    <tr>\n",
       "      <th>1</th>\n",
       "      <td>projects</td>\n",
       "      <td>[\"PROJECTS Home / Small and Large Enterprise P...</td>\n",
       "    </tr>\n",
       "  </tbody>\n",
       "</table>\n",
       "</div>"
      ],
      "text/plain": [
       "       label                                               text\n",
       "0  user_info  ['KARRI.KUMAR,Lead User Experience Designer Po...\n",
       "1   projects  [\"PROJECTS Home / Small and Large Enterprise P..."
      ]
     },
     "execution_count": 6,
     "metadata": {},
     "output_type": "execute_result"
    }
   ],
   "source": [
    "df100.head(2)"
   ]
  },
  {
   "cell_type": "code",
   "execution_count": 7,
   "id": "855b2253",
   "metadata": {},
   "outputs": [],
   "source": [
    "# Create a new column 'text_id' with encoded categories \n",
    "df100['text_id'] = df100['label'].factorize()[0]\n",
    "text_id_df = df100[['label', 'text_id']]"
   ]
  },
  {
   "cell_type": "code",
   "execution_count": 8,
   "id": "41f01915",
   "metadata": {},
   "outputs": [
    {
     "data": {
      "text/html": [
       "<div>\n",
       "<style scoped>\n",
       "    .dataframe tbody tr th:only-of-type {\n",
       "        vertical-align: middle;\n",
       "    }\n",
       "\n",
       "    .dataframe tbody tr th {\n",
       "        vertical-align: top;\n",
       "    }\n",
       "\n",
       "    .dataframe thead th {\n",
       "        text-align: right;\n",
       "    }\n",
       "</style>\n",
       "<table border=\"1\" class=\"dataframe\">\n",
       "  <thead>\n",
       "    <tr style=\"text-align: right;\">\n",
       "      <th></th>\n",
       "      <th>label</th>\n",
       "      <th>text</th>\n",
       "      <th>text_id</th>\n",
       "    </tr>\n",
       "  </thead>\n",
       "  <tbody>\n",
       "    <tr>\n",
       "      <th>0</th>\n",
       "      <td>user_info</td>\n",
       "      <td>['KARRI.KUMAR,Lead User Experience Designer Po...</td>\n",
       "      <td>0</td>\n",
       "    </tr>\n",
       "    <tr>\n",
       "      <th>1</th>\n",
       "      <td>projects</td>\n",
       "      <td>[\"PROJECTS Home / Small and Large Enterprise P...</td>\n",
       "      <td>1</td>\n",
       "    </tr>\n",
       "    <tr>\n",
       "      <th>2</th>\n",
       "      <td>projects</td>\n",
       "      <td>['Smart Dock (Computer and Hardware) Role: Lea...</td>\n",
       "      <td>1</td>\n",
       "    </tr>\n",
       "    <tr>\n",
       "      <th>3</th>\n",
       "      <td>projects</td>\n",
       "      <td>['EXPERIENCE\\n', '\\n', 'Baker Hughes, Staff UX...</td>\n",
       "      <td>1</td>\n",
       "    </tr>\n",
       "    <tr>\n",
       "      <th>4</th>\n",
       "      <td>projects</td>\n",
       "      <td>['Project: Insightl Role: Lead UX Designer Wit...</td>\n",
       "      <td>1</td>\n",
       "    </tr>\n",
       "  </tbody>\n",
       "</table>\n",
       "</div>"
      ],
      "text/plain": [
       "       label                                               text  text_id\n",
       "0  user_info  ['KARRI.KUMAR,Lead User Experience Designer Po...        0\n",
       "1   projects  [\"PROJECTS Home / Small and Large Enterprise P...        1\n",
       "2   projects  ['Smart Dock (Computer and Hardware) Role: Lea...        1\n",
       "3   projects  ['EXPERIENCE\\n', '\\n', 'Baker Hughes, Staff UX...        1\n",
       "4   projects  ['Project: Insightl Role: Lead UX Designer Wit...        1"
      ]
     },
     "execution_count": 8,
     "metadata": {},
     "output_type": "execute_result"
    }
   ],
   "source": [
    "df100.head()"
   ]
  },
  {
   "cell_type": "code",
   "execution_count": 9,
   "id": "9ec523ee",
   "metadata": {},
   "outputs": [
    {
     "data": {
      "text/html": [
       "<div>\n",
       "<style scoped>\n",
       "    .dataframe tbody tr th:only-of-type {\n",
       "        vertical-align: middle;\n",
       "    }\n",
       "\n",
       "    .dataframe tbody tr th {\n",
       "        vertical-align: top;\n",
       "    }\n",
       "\n",
       "    .dataframe thead th {\n",
       "        text-align: right;\n",
       "    }\n",
       "</style>\n",
       "<table border=\"1\" class=\"dataframe\">\n",
       "  <thead>\n",
       "    <tr style=\"text-align: right;\">\n",
       "      <th></th>\n",
       "      <th>label</th>\n",
       "      <th>text</th>\n",
       "      <th>text_id</th>\n",
       "    </tr>\n",
       "  </thead>\n",
       "  <tbody>\n",
       "    <tr>\n",
       "      <th>0</th>\n",
       "      <td>user_info</td>\n",
       "      <td>['KARRI.KUMAR,Lead User Experience Designer Po...</td>\n",
       "      <td>0</td>\n",
       "    </tr>\n",
       "    <tr>\n",
       "      <th>1</th>\n",
       "      <td>projects</td>\n",
       "      <td>[\"PROJECTS Home / Small and Large Enterprise P...</td>\n",
       "      <td>1</td>\n",
       "    </tr>\n",
       "    <tr>\n",
       "      <th>2</th>\n",
       "      <td>projects</td>\n",
       "      <td>['Smart Dock (Computer and Hardware) Role: Lea...</td>\n",
       "      <td>1</td>\n",
       "    </tr>\n",
       "    <tr>\n",
       "      <th>3</th>\n",
       "      <td>projects</td>\n",
       "      <td>['EXPERIENCE\\n', '\\n', 'Baker Hughes, Staff UX...</td>\n",
       "      <td>1</td>\n",
       "    </tr>\n",
       "    <tr>\n",
       "      <th>4</th>\n",
       "      <td>projects</td>\n",
       "      <td>['Project: Insightl Role: Lead UX Designer Wit...</td>\n",
       "      <td>1</td>\n",
       "    </tr>\n",
       "  </tbody>\n",
       "</table>\n",
       "</div>"
      ],
      "text/plain": [
       "       label                                               text  text_id\n",
       "0  user_info  ['KARRI.KUMAR,Lead User Experience Designer Po...        0\n",
       "1   projects  [\"PROJECTS Home / Small and Large Enterprise P...        1\n",
       "2   projects  ['Smart Dock (Computer and Hardware) Role: Lea...        1\n",
       "3   projects  ['EXPERIENCE\\n', '\\n', 'Baker Hughes, Staff UX...        1\n",
       "4   projects  ['Project: Insightl Role: Lead UX Designer Wit...        1"
      ]
     },
     "execution_count": 9,
     "metadata": {},
     "output_type": "execute_result"
    }
   ],
   "source": [
    "# Dictionaries for future use\n",
    "text_to_id = dict(text_id_df.values)\n",
    "id_to_text = dict(text_id_df[['text_id', 'label']].values)\n",
    "# New dataframe\n",
    "df100.head()"
   ]
  },
  {
   "cell_type": "code",
   "execution_count": 10,
   "id": "5fc4ce93",
   "metadata": {},
   "outputs": [
    {
     "name": "stdout",
     "output_type": "stream",
     "text": [
      "Each of the 12784 data is represented by 18685 features (TF-IDF score of unigrams and bigrams)\n"
     ]
    }
   ],
   "source": [
    "tfidf = TfidfVectorizer(sublinear_tf=True, min_df=5,\n",
    "                        ngram_range=(1, 2), \n",
    "                        stop_words='english')\n",
    "# We transform each complaint into a vector\n",
    "features = tfidf.fit_transform(df100.text).toarray()\n",
    "labels = df100['label']\n",
    "print(\"Each of the %d data is represented by %d features (TF-IDF score of unigrams and bigrams)\" %(features.shape))"
   ]
  },
  {
   "cell_type": "code",
   "execution_count": 437,
   "id": "44e30a98",
   "metadata": {},
   "outputs": [],
   "source": [
    "# Finding the three most correlated terms with each of the product categories\n",
    "# N = 3\n",
    "# for label, text_id in sorted(text_to_id.items()):\n",
    "#   features_chi2 = chi2(features, labels == text_id)\n",
    "#   indices = np.argsort(features_chi2[0])\n",
    "#   feature_names = np.array(tfidf.get_feature_names())[indices]\n",
    "#   unigrams = [v for v in feature_names if len(v.split(' ')) == 1]\n",
    "#   bigrams = [v for v in feature_names if len(v.split(' ')) == 2]\n",
    "#   print(\"n==> %s:\" %(label))\n",
    "#   print(\"  * Most Correlated Unigrams are: %s\" %(', '.join(unigrams[-N:])))\n",
    "#   print(\"  * Most Correlated Bigrams are: %s\" %(', '.join(bigrams[-N:])))"
   ]
  },
  {
   "cell_type": "code",
   "execution_count": 12,
   "id": "6ac9567a",
   "metadata": {},
   "outputs": [
    {
     "data": {
      "text/html": [
       "<div>\n",
       "<style scoped>\n",
       "    .dataframe tbody tr th:only-of-type {\n",
       "        vertical-align: middle;\n",
       "    }\n",
       "\n",
       "    .dataframe tbody tr th {\n",
       "        vertical-align: top;\n",
       "    }\n",
       "\n",
       "    .dataframe thead th {\n",
       "        text-align: right;\n",
       "    }\n",
       "</style>\n",
       "<table border=\"1\" class=\"dataframe\">\n",
       "  <thead>\n",
       "    <tr style=\"text-align: right;\">\n",
       "      <th></th>\n",
       "      <th>label</th>\n",
       "      <th>text</th>\n",
       "      <th>text_id</th>\n",
       "    </tr>\n",
       "  </thead>\n",
       "  <tbody>\n",
       "    <tr>\n",
       "      <th>0</th>\n",
       "      <td>user_info</td>\n",
       "      <td>['KARRI.KUMAR,Lead User Experience Designer Po...</td>\n",
       "      <td>0</td>\n",
       "    </tr>\n",
       "    <tr>\n",
       "      <th>1</th>\n",
       "      <td>projects</td>\n",
       "      <td>[\"PROJECTS Home / Small and Large Enterprise P...</td>\n",
       "      <td>1</td>\n",
       "    </tr>\n",
       "    <tr>\n",
       "      <th>2</th>\n",
       "      <td>projects</td>\n",
       "      <td>['Smart Dock (Computer and Hardware) Role: Lea...</td>\n",
       "      <td>1</td>\n",
       "    </tr>\n",
       "    <tr>\n",
       "      <th>3</th>\n",
       "      <td>projects</td>\n",
       "      <td>['EXPERIENCE\\n', '\\n', 'Baker Hughes, Staff UX...</td>\n",
       "      <td>1</td>\n",
       "    </tr>\n",
       "    <tr>\n",
       "      <th>4</th>\n",
       "      <td>projects</td>\n",
       "      <td>['Project: Insightl Role: Lead UX Designer Wit...</td>\n",
       "      <td>1</td>\n",
       "    </tr>\n",
       "  </tbody>\n",
       "</table>\n",
       "</div>"
      ],
      "text/plain": [
       "       label                                               text  text_id\n",
       "0  user_info  ['KARRI.KUMAR,Lead User Experience Designer Po...        0\n",
       "1   projects  [\"PROJECTS Home / Small and Large Enterprise P...        1\n",
       "2   projects  ['Smart Dock (Computer and Hardware) Role: Lea...        1\n",
       "3   projects  ['EXPERIENCE\\n', '\\n', 'Baker Hughes, Staff UX...        1\n",
       "4   projects  ['Project: Insightl Role: Lead UX Designer Wit...        1"
      ]
     },
     "execution_count": 12,
     "metadata": {},
     "output_type": "execute_result"
    }
   ],
   "source": [
    "df100.head()"
   ]
  },
  {
   "cell_type": "code",
   "execution_count": 13,
   "id": "5e055d97",
   "metadata": {},
   "outputs": [
    {
     "data": {
      "text/plain": [
       "array([[0., 0., 0., ..., 0., 0., 0.],\n",
       "       [0., 0., 0., ..., 0., 0., 0.],\n",
       "       [0., 0., 0., ..., 0., 0., 0.],\n",
       "       ...,\n",
       "       [0., 0., 0., ..., 0., 0., 0.],\n",
       "       [0., 0., 0., ..., 0., 0., 0.],\n",
       "       [0., 0., 0., ..., 0., 0., 0.]])"
      ]
     },
     "execution_count": 13,
     "metadata": {},
     "output_type": "execute_result"
    }
   ],
   "source": [
    "features"
   ]
  },
  {
   "cell_type": "code",
   "execution_count": 14,
   "id": "d7d5b2bd",
   "metadata": {},
   "outputs": [
    {
     "data": {
      "text/plain": [
       "0        user_info\n",
       "1         projects\n",
       "2         projects\n",
       "3         projects\n",
       "4         projects\n",
       "           ...    \n",
       "12779    user_info\n",
       "12780    user_info\n",
       "12781    user_info\n",
       "12782    user_info\n",
       "12783    user_info\n",
       "Name: label, Length: 12784, dtype: object"
      ]
     },
     "execution_count": 14,
     "metadata": {},
     "output_type": "execute_result"
    }
   ],
   "source": [
    "labels"
   ]
  },
  {
   "cell_type": "code",
   "execution_count": 15,
   "id": "ef9a6c21",
   "metadata": {},
   "outputs": [],
   "source": [
    "X = df100['text'] # Collection of documents\n",
    "y = df100['label'] # Target or the labels we want to predict \n",
    "X_train, X_test, y_train, y_test = train_test_split(X, y, \n",
    "                                                    test_size=0.25,\n",
    "                                                    random_state = 0)"
   ]
  },
  {
   "cell_type": "code",
   "execution_count": 16,
   "id": "834f4bee",
   "metadata": {},
   "outputs": [
    {
     "data": {
      "text/plain": [
       "6381                             mushroom classification\\n\n",
       "11757    Wahab ShaikhStudent at K. J. Somaiya Institute...\n",
       "3828       ['UI / UX Designer (Extended Reality)\\n', '\\n']\n",
       "683      ['Technical Skills\\n', '\\n', 'Web Development\\...\n",
       "3657     ['ICUBIXX Solutions Role: UI/UX Designer\\n', '...\n",
       "Name: text, dtype: object"
      ]
     },
     "execution_count": 16,
     "metadata": {},
     "output_type": "execute_result"
    }
   ],
   "source": [
    "X_train.head()"
   ]
  },
  {
   "cell_type": "code",
   "execution_count": 17,
   "id": "bb429a17",
   "metadata": {},
   "outputs": [
    {
     "data": {
      "text/plain": [
       "(9588,)"
      ]
     },
     "execution_count": 17,
     "metadata": {},
     "output_type": "execute_result"
    }
   ],
   "source": [
    "X_train.shape"
   ]
  },
  {
   "cell_type": "code",
   "execution_count": 18,
   "id": "a4a8cb35",
   "metadata": {},
   "outputs": [
    {
     "data": {
      "text/plain": [
       "(3196,)"
      ]
     },
     "execution_count": 18,
     "metadata": {},
     "output_type": "execute_result"
    }
   ],
   "source": [
    "X_test.shape"
   ]
  },
  {
   "cell_type": "code",
   "execution_count": 19,
   "id": "50e083ac",
   "metadata": {},
   "outputs": [
    {
     "data": {
      "text/plain": [
       "(9588,)"
      ]
     },
     "execution_count": 19,
     "metadata": {},
     "output_type": "execute_result"
    }
   ],
   "source": [
    "y_train.shape"
   ]
  },
  {
   "cell_type": "code",
   "execution_count": 20,
   "id": "e3b9b499",
   "metadata": {},
   "outputs": [
    {
     "data": {
      "text/plain": [
       "(3196,)"
      ]
     },
     "execution_count": 20,
     "metadata": {},
     "output_type": "execute_result"
    }
   ],
   "source": [
    "y_test.shape"
   ]
  },
  {
   "cell_type": "code",
   "execution_count": 21,
   "id": "bdfbc003",
   "metadata": {},
   "outputs": [
    {
     "data": {
      "text/plain": [
       "6381      projects\n",
       "11757    user_info\n",
       "3828     user_info\n",
       "683         skills\n",
       "3657        skills\n",
       "Name: label, dtype: object"
      ]
     },
     "execution_count": 21,
     "metadata": {},
     "output_type": "execute_result"
    }
   ],
   "source": [
    "y_train.head()"
   ]
  },
  {
   "cell_type": "code",
   "execution_count": 22,
   "id": "3acba438",
   "metadata": {},
   "outputs": [],
   "source": [
    "models = [\n",
    "    RandomForestClassifier(n_estimators=100, max_depth=5, random_state=0),\n",
    "    LinearSVC(),\n",
    "    MultinomialNB(),\n",
    "    LogisticRegression(random_state=0),\n",
    "]"
   ]
  },
  {
   "cell_type": "code",
   "execution_count": 23,
   "id": "3f5b19b3",
   "metadata": {},
   "outputs": [],
   "source": [
    "# 5 Cross-validation\n",
    "CV = 5\n",
    "cv_df = pd.DataFrame(index=range(CV * len(models)))"
   ]
  },
  {
   "cell_type": "code",
   "execution_count": 24,
   "id": "47f3302c",
   "metadata": {},
   "outputs": [
    {
     "name": "stderr",
     "output_type": "stream",
     "text": [
      "C:\\Users\\raju.gulla\\Anaconda3\\envs\\onpassive\\lib\\site-packages\\sklearn\\linear_model\\_logistic.py:444: ConvergenceWarning: lbfgs failed to converge (status=1):\n",
      "STOP: TOTAL NO. of ITERATIONS REACHED LIMIT.\n",
      "\n",
      "Increase the number of iterations (max_iter) or scale the data as shown in:\n",
      "    https://scikit-learn.org/stable/modules/preprocessing.html\n",
      "Please also refer to the documentation for alternative solver options:\n",
      "    https://scikit-learn.org/stable/modules/linear_model.html#logistic-regression\n",
      "  n_iter_i = _check_optimize_result(\n",
      "C:\\Users\\raju.gulla\\Anaconda3\\envs\\onpassive\\lib\\site-packages\\sklearn\\linear_model\\_logistic.py:444: ConvergenceWarning: lbfgs failed to converge (status=1):\n",
      "STOP: TOTAL NO. of ITERATIONS REACHED LIMIT.\n",
      "\n",
      "Increase the number of iterations (max_iter) or scale the data as shown in:\n",
      "    https://scikit-learn.org/stable/modules/preprocessing.html\n",
      "Please also refer to the documentation for alternative solver options:\n",
      "    https://scikit-learn.org/stable/modules/linear_model.html#logistic-regression\n",
      "  n_iter_i = _check_optimize_result(\n",
      "C:\\Users\\raju.gulla\\Anaconda3\\envs\\onpassive\\lib\\site-packages\\sklearn\\linear_model\\_logistic.py:444: ConvergenceWarning: lbfgs failed to converge (status=1):\n",
      "STOP: TOTAL NO. of ITERATIONS REACHED LIMIT.\n",
      "\n",
      "Increase the number of iterations (max_iter) or scale the data as shown in:\n",
      "    https://scikit-learn.org/stable/modules/preprocessing.html\n",
      "Please also refer to the documentation for alternative solver options:\n",
      "    https://scikit-learn.org/stable/modules/linear_model.html#logistic-regression\n",
      "  n_iter_i = _check_optimize_result(\n",
      "C:\\Users\\raju.gulla\\Anaconda3\\envs\\onpassive\\lib\\site-packages\\sklearn\\linear_model\\_logistic.py:444: ConvergenceWarning: lbfgs failed to converge (status=1):\n",
      "STOP: TOTAL NO. of ITERATIONS REACHED LIMIT.\n",
      "\n",
      "Increase the number of iterations (max_iter) or scale the data as shown in:\n",
      "    https://scikit-learn.org/stable/modules/preprocessing.html\n",
      "Please also refer to the documentation for alternative solver options:\n",
      "    https://scikit-learn.org/stable/modules/linear_model.html#logistic-regression\n",
      "  n_iter_i = _check_optimize_result(\n",
      "C:\\Users\\raju.gulla\\Anaconda3\\envs\\onpassive\\lib\\site-packages\\sklearn\\linear_model\\_logistic.py:444: ConvergenceWarning: lbfgs failed to converge (status=1):\n",
      "STOP: TOTAL NO. of ITERATIONS REACHED LIMIT.\n",
      "\n",
      "Increase the number of iterations (max_iter) or scale the data as shown in:\n",
      "    https://scikit-learn.org/stable/modules/preprocessing.html\n",
      "Please also refer to the documentation for alternative solver options:\n",
      "    https://scikit-learn.org/stable/modules/linear_model.html#logistic-regression\n",
      "  n_iter_i = _check_optimize_result(\n"
     ]
    }
   ],
   "source": [
    "entries = []\n",
    "for model in models:\n",
    "  model_name = model.__class__.__name__\n",
    "  accuracies = cross_val_score(model, features, labels, scoring='accuracy', cv=CV)\n",
    "  for fold_idx, accuracy in enumerate(accuracies):\n",
    "    entries.append((model_name, fold_idx, accuracy))\n",
    "cv_df = pd.DataFrame(entries, columns=['model_name', 'fold_idx', 'accuracy'])"
   ]
  },
  {
   "cell_type": "code",
   "execution_count": 25,
   "id": "56a35996",
   "metadata": {},
   "outputs": [
    {
     "data": {
      "text/html": [
       "<div>\n",
       "<style scoped>\n",
       "    .dataframe tbody tr th:only-of-type {\n",
       "        vertical-align: middle;\n",
       "    }\n",
       "\n",
       "    .dataframe tbody tr th {\n",
       "        vertical-align: top;\n",
       "    }\n",
       "\n",
       "    .dataframe thead th {\n",
       "        text-align: right;\n",
       "    }\n",
       "</style>\n",
       "<table border=\"1\" class=\"dataframe\">\n",
       "  <thead>\n",
       "    <tr style=\"text-align: right;\">\n",
       "      <th></th>\n",
       "      <th>Mean Accuracy</th>\n",
       "      <th>Standard deviation</th>\n",
       "    </tr>\n",
       "    <tr>\n",
       "      <th>model_name</th>\n",
       "      <th></th>\n",
       "      <th></th>\n",
       "    </tr>\n",
       "  </thead>\n",
       "  <tbody>\n",
       "    <tr>\n",
       "      <th>LinearSVC</th>\n",
       "      <td>0.716057</td>\n",
       "      <td>0.117526</td>\n",
       "    </tr>\n",
       "    <tr>\n",
       "      <th>LogisticRegression</th>\n",
       "      <td>0.718323</td>\n",
       "      <td>0.112709</td>\n",
       "    </tr>\n",
       "    <tr>\n",
       "      <th>MultinomialNB</th>\n",
       "      <td>0.660987</td>\n",
       "      <td>0.079668</td>\n",
       "    </tr>\n",
       "    <tr>\n",
       "      <th>RandomForestClassifier</th>\n",
       "      <td>0.426702</td>\n",
       "      <td>0.072228</td>\n",
       "    </tr>\n",
       "  </tbody>\n",
       "</table>\n",
       "</div>"
      ],
      "text/plain": [
       "                        Mean Accuracy  Standard deviation\n",
       "model_name                                               \n",
       "LinearSVC                    0.716057            0.117526\n",
       "LogisticRegression           0.718323            0.112709\n",
       "MultinomialNB                0.660987            0.079668\n",
       "RandomForestClassifier       0.426702            0.072228"
      ]
     },
     "execution_count": 25,
     "metadata": {},
     "output_type": "execute_result"
    }
   ],
   "source": [
    "mean_accuracy = cv_df.groupby('model_name').accuracy.mean()\n",
    "std_accuracy = cv_df.groupby('model_name').accuracy.std()\n",
    "\n",
    "acc = pd.concat([mean_accuracy, std_accuracy], axis= 1, \n",
    "          ignore_index=True)\n",
    "acc.columns = ['Mean Accuracy', 'Standard deviation']\n",
    "acc"
   ]
  },
  {
   "cell_type": "code",
   "execution_count": 451,
   "id": "ec6d5cbe",
   "metadata": {},
   "outputs": [
    {
     "data": {
      "image/png": "[encoded data removed]",
      "text/plain": [
       "<Figure size 576x360 with 1 Axes>"
      ]
     },
     "metadata": {
      "needs_background": "light"
     },
     "output_type": "display_data"
    }
   ],
   "source": [
    "plt.figure(figsize=(8,5))\n",
    "sns.boxplot(x='model_name', y='accuracy', \n",
    "            data=cv_df, \n",
    "            color='lightblue', \n",
    "            showmeans=True)\n",
    "plt.title(\"MEAN ACCURACY (cv = 5)n\", size=14);"
   ]
  },
  {
   "cell_type": "code",
   "execution_count": 26,
   "id": "db55276d",
   "metadata": {},
   "outputs": [],
   "source": [
    "X_train, X_test, y_train, y_test,indices_train,indices_test = train_test_split(features, \n",
    "                                                               labels, \n",
    "                                                               df100.index, test_size=0.25, \n",
    "                                                               random_state=1)\n",
    "model = LinearSVC()\n",
    "model.fit(X_train, y_train)\n",
    "y_pred = model.predict(X_test)"
   ]
  },
  {
   "cell_type": "code",
   "execution_count": 27,
   "id": "cbdab6ef",
   "metadata": {},
   "outputs": [
    {
     "data": {
      "text/plain": [
       "RangeIndex(start=0, stop=12784, step=1)"
      ]
     },
     "execution_count": 27,
     "metadata": {},
     "output_type": "execute_result"
    }
   ],
   "source": [
    "df100.index"
   ]
  },
  {
   "cell_type": "code",
   "execution_count": 28,
   "id": "b6d76377",
   "metadata": {},
   "outputs": [
    {
     "name": "stdout",
     "output_type": "stream",
     "text": [
      "ttttCLASSIFICATIION METRICSn\n",
      "                  precision    recall  f1-score   support\n",
      "\n",
      "       user_info       0.92      0.93      0.92       117\n",
      "        projects       0.73      0.62      0.67        13\n",
      "       education       0.91      0.87      0.89       297\n",
      "          skills       0.61      0.52      0.56        63\n",
      "         summary       0.82      0.84      0.83      1129\n",
      "personal_details       0.84      0.83      0.83       534\n",
      "  certifications       0.73      0.64      0.69       442\n",
      "     declaration       0.78      0.86      0.81       601\n",
      "\n",
      "        accuracy                           0.81      3196\n",
      "       macro avg       0.79      0.76      0.78      3196\n",
      "    weighted avg       0.81      0.81      0.81      3196\n",
      "\n"
     ]
    }
   ],
   "source": [
    "# Classification report\n",
    "print('ttttCLASSIFICATIION METRICSn')\n",
    "print(metrics.classification_report(y_test, y_pred, \n",
    "                                    target_names= df100['label'].unique()))"
   ]
  },
  {
   "cell_type": "code",
   "execution_count": 29,
   "id": "7e6d551a",
   "metadata": {},
   "outputs": [],
   "source": [
    "#Prediction\n",
    "\n",
    "\n",
    "X_train, X_test, y_train, y_test = train_test_split(X, y, \n",
    "                                                    test_size=0.25,\n",
    "                                                    random_state = 0)"
   ]
  },
  {
   "cell_type": "code",
   "execution_count": null,
   "id": "9ec51a07",
   "metadata": {},
   "outputs": [],
   "source": [
    "# tvec=TfidfVectorizer(ngram_range=(1,2),stop_words='english').fit(x_train)\n",
    "\n",
    "# df_train=pd.DataFrame(tvec.transform(x_train).todense(),columns=tvec.get_feature_names())\n",
    "# df_test=pd.DataFrame(tvec.transform(x_test).todense(),columns=tvec.get_feature_names())"
   ]
  },
  {
   "cell_type": "code",
   "execution_count": null,
   "id": "56bebad6",
   "metadata": {},
   "outputs": [],
   "source": [
    "# model=LogisticRegression()\n",
    "# model.fit(df_train,y_train)\n",
    "\n",
    "# model.score(df_test,y_test)\n",
    "\n",
    "# model.score(df_train,y_train)\n",
    "\n",
    "# from sklearn.metrics import confusion_matrix,accuracy_score,precision_score,recall_score,classification_report\n",
    "\n",
    "# predictions=model.predict(df_test)\n",
    "# print(accuracy_score(predictions,y_test))\n",
    "# print(confusion_matrix(predictions,y_test))\n",
    "# print(classification_report(predictions,y_test))"
   ]
  },
  {
   "cell_type": "code",
   "execution_count": null,
   "id": "f890f8a0",
   "metadata": {},
   "outputs": [],
   "source": []
  },
  {
   "cell_type": "code",
   "execution_count": 30,
   "id": "57d993ed",
   "metadata": {},
   "outputs": [],
   "source": [
    "tfidf = TfidfVectorizer(sublinear_tf=True, min_df=5,\n",
    "                        ngram_range=(1, 2), \n",
    "                        stop_words='english')"
   ]
  },
  {
   "cell_type": "code",
   "execution_count": 31,
   "id": "1f0700ec",
   "metadata": {},
   "outputs": [],
   "source": [
    "fitted_vectorizer = tfidf.fit(X_train)\n",
    "tfidf_vectorizer_vectors = fitted_vectorizer.transform(X_train)"
   ]
  },
  {
   "cell_type": "code",
   "execution_count": 32,
   "id": "8d260717",
   "metadata": {},
   "outputs": [],
   "source": [
    "model = LinearSVC().fit(tfidf_vectorizer_vectors, y_train)"
   ]
  },
  {
   "cell_type": "code",
   "execution_count": 459,
   "id": "c9652eb5",
   "metadata": {},
   "outputs": [],
   "source": [
    "text1 = '''['Technical Expertise\\n', '\\n', 'Programming Languages\\n', '\\n', 'C, Java and SQL\\n', '\\n', 'Frameworks\\n', '\\n', 'Spring, Spring Boot, Spring Security, Hibernate\\n', '\\n', 'IDEs\\n', '\\n', 'Eclipse, NetBeans\\n', '\\n', 'Servers\\n', '\\n', 'Apache Tomcat\\n', '\\n', 'Databases\\n', '\\n', 'Oracle, PostgresSQL, MongoDB, Cassandra Servlets, JSP\\n', '\\n', 'JZEE Technologies\\n', '\\n', 'Version Control Systems Web Technologies\\n', '\\n', 'Git\\n', '\\n', 'HTMLS, Javascript, JQuery, AngularJS, ServiceNow\\n', '\\n']\n",
    "'''"
   ]
  },
  {
   "cell_type": "code",
   "execution_count": 460,
   "id": "7b20854f",
   "metadata": {},
   "outputs": [
    {
     "name": "stdout",
     "output_type": "stream",
     "text": [
      "['skills']\n"
     ]
    }
   ],
   "source": [
    "print(model.predict(fitted_vectorizer.transform([text1])))"
   ]
  },
  {
   "cell_type": "code",
   "execution_count": 462,
   "id": "fc573767",
   "metadata": {},
   "outputs": [],
   "source": [
    "text2 = '''['Project #2: Network Management System (NMS) Role Associate Engineer: Team Size\\n', '\\n', 'Huawei Developed New product called u-traffic. It is part of NMS_ which is used to monitor many different types of devices in the Network continuously based on the user configuration The Traffic software will help the customer t0 find the performance of each device easily and rectifies the issues as soon possible It will use different type of communication protocols to monitor different type devices. It will use SNMP TCP and FTP protocols to collect the data from device.\\n', '\\n', \"Roles & Responsibilities: Used Java Collections extensively t0 manipulate the data on front and back end and Multi-Threaded Concepts for handling multiple client requests. Created user defined exceptions for handling Exceptions and JUnit test suites t0 test the hibernate DAO' Rest controllers and upload sample Data t0 the backend tlatabase. 3. Log4j logging system for tracking and debugging java applications: Used Java script; jQuery for frontend look & feel and client-side data handling: HTML, JSP for Displaying Reports and Details.\\n\", '\\n']\n",
    "'''"
   ]
  },
  {
   "cell_type": "code",
   "execution_count": 463,
   "id": "2b8f3538",
   "metadata": {},
   "outputs": [
    {
     "name": "stdout",
     "output_type": "stream",
     "text": [
      "['projects']\n"
     ]
    }
   ],
   "source": [
    "print(model.predict(fitted_vectorizer.transform([text2])))"
   ]
  },
  {
   "cell_type": "code",
   "execution_count": 464,
   "id": "b1348bc1",
   "metadata": {},
   "outputs": [],
   "source": [
    "text3 = '''['Work Experience\\n', '\\n', 'NIMBUS SYSTEMS PVT . LTD_ Sr. Design Consultant; 05/2018 PRESENT\\n', '\\n', 'Promoted to Sr. Design Consultant by focusing on user-centered design principles creating simple and intuitive user interfaces, scrum master that contributedto 14% vear on year profit growth: Obtained user data with analytics reporting, task analysis; latest design techniques and leveraged that data to create iterative improvements, increasing user satisfaction by 18%. Re-designing existing Uls to better adapt android device _ Abandonment rate on mobile app decreased 22%.\\n', '\\n']\n",
    "'''"
   ]
  },
  {
   "cell_type": "code",
   "execution_count": 465,
   "id": "5aa268f2",
   "metadata": {},
   "outputs": [
    {
     "name": "stdout",
     "output_type": "stream",
     "text": [
      "['projects']\n"
     ]
    }
   ],
   "source": [
    "print(model.predict(fitted_vectorizer.transform([text3])))"
   ]
  },
  {
   "cell_type": "code",
   "execution_count": 466,
   "id": "13f82eb3",
   "metadata": {},
   "outputs": [],
   "source": [
    "text4 = '''['EXPRESS ATMOSPHERIC SCIENCE AND RESEARCH PVT. LTD. (EASRPL) Sr: UI & UX Designer, 08/2015 04/2018\\n', '\\n', 'Managed usability testing for pplication in preparation for application re-designs. Defined testing parameters, prepared prototypes_ recruited users, facilitated test and reported results_ Complete user research to identify pportunity for improving the application: Drove the following enhancements Replacement of old user interfaces to Responsive web design (RWDI; so the acceptability of the application increase to 24%. Improvement of core website functionary by fixing broken Iink and scripting error, which lowered application page abandonment rate by 18%.\\n', '\\n']\n",
    "'''"
   ]
  },
  {
   "cell_type": "code",
   "execution_count": 467,
   "id": "877754ba",
   "metadata": {},
   "outputs": [
    {
     "name": "stdout",
     "output_type": "stream",
     "text": [
      "['projects']\n"
     ]
    }
   ],
   "source": [
    "print(model.predict(fitted_vectorizer.transform([text4])))"
   ]
  },
  {
   "cell_type": "code",
   "execution_count": 468,
   "id": "8969f5a5",
   "metadata": {},
   "outputs": [],
   "source": [
    "text5 = '''['Summary of Experlence:\\n', '\\n', 'Have 6 Years of experience as Web UX/UI Designer; Software Development: UX Research Ul/Interaction Design Agile Developrent_ Journey Mapping Information Architecture Wireframing. Prototyping Usability Testing Data Analysis. Motion Data Visualization Identity Systems Print Illustration Software Site maps, flow diagrams and prototypes to help communicate the design approach Testing Extensive experience with latest Ul technologies Visual Studio_ Dreamweaver, Photoshop, Illustrator; CSS3, Bootstrap, Flash; and experience with IOS and Android tablet devices, cross-browser and cross platform. Have expert knowledge in Designing, CSS, DIVs, PSD to HTML Conversation, Browser Compatibility; Responsive lavouts, Page Layout concepts_ Extensive experience in developing web page quickly and effectively using HTMLS and CSS3 and experience in making web pages cross browser compatible_ Working Experience on Web and Graphic Deslgning Working experience on Responsive designing Experience in creating |-phone and android Mobile Apps designs. Working experience on Web and application in Ul Design: SEO and Search Engine Techniques on page optimization Having concentrated knowlecge in Usability Analysis, User Interaction, User experience, Usability Testing and Front-end devel lopment. Strong domain knowledge in Desktop pplications, Web applications and Responsive web development: Focus towards best practices like coding standards and other industry standards_ Roles to understand the end user requirerents and working closely with client to implementing the Wire-frames and User Experlence to the software applications. Developed and delivered more than 30 websites & over 40+ Ul application designs in HTML, CSS, and JavaScript with latest Ul technologies Highly motivated Team Player, creative and innovative experience in IT and automotive industry as an Interaction and User Experience Developer. Hands on experience in browser tools like Firebug; Web Developer Ability to work under pressure and meet deadlines:\\n', '\\n']\n",
    "'''"
   ]
  },
  {
   "cell_type": "code",
   "execution_count": 469,
   "id": "3926403a",
   "metadata": {},
   "outputs": [
    {
     "name": "stdout",
     "output_type": "stream",
     "text": [
      "['summary']\n"
     ]
    }
   ],
   "source": [
    "print(model.predict(fitted_vectorizer.transform([text5])))"
   ]
  },
  {
   "cell_type": "code",
   "execution_count": 303,
   "id": "ed49cac7",
   "metadata": {},
   "outputs": [],
   "source": [
    "text7 = '''['Career Objective I am looking for an opportunity to connect myself- with an organization that provides a demanding job to demonstrate inventive skill and industrious work\\n', '\\n']\n",
    "'''"
   ]
  },
  {
   "cell_type": "code",
   "execution_count": 304,
   "id": "f4aadbac",
   "metadata": {},
   "outputs": [
    {
     "name": "stdout",
     "output_type": "stream",
     "text": [
      "['summary']\n"
     ]
    }
   ],
   "source": [
    "print(model.predict(fitted_vectorizer.transform([text7])))"
   ]
  },
  {
   "cell_type": "code",
   "execution_count": 305,
   "id": "f44a0aff",
   "metadata": {},
   "outputs": [],
   "source": [
    "text8 = '''['HARSHAVARDHAN REDDY MULAKA Mail: harshavardhanreddy mulaka. 13@gmail.com Mobile: +91 7032799773\\n', '\\n']\n",
    "'''"
   ]
  },
  {
   "cell_type": "code",
   "execution_count": 306,
   "id": "7041e789",
   "metadata": {},
   "outputs": [
    {
     "name": "stdout",
     "output_type": "stream",
     "text": [
      "['user_info']\n"
     ]
    }
   ],
   "source": [
    "print(model.predict(fitted_vectorizer.transform([text8])))"
   ]
  },
  {
   "cell_type": "code",
   "execution_count": 307,
   "id": "ed78140a",
   "metadata": {},
   "outputs": [],
   "source": [
    "text9 = '''Raju Gulla, Email: raju@gmail.com, mobile: 9392175579'''"
   ]
  },
  {
   "cell_type": "code",
   "execution_count": 308,
   "id": "8aefc72e",
   "metadata": {},
   "outputs": [
    {
     "name": "stdout",
     "output_type": "stream",
     "text": [
      "['user_info']\n"
     ]
    }
   ],
   "source": [
    "print(model.predict(fitted_vectorizer.transform([text9])))"
   ]
  },
  {
   "cell_type": "code",
   "execution_count": 309,
   "id": "586948aa",
   "metadata": {},
   "outputs": [],
   "source": [
    "text10 = '''['Contact\\n', '\\n', 'Phone Number- +91 6200368932 Email: chandanchowdhury5l4@gmail.com\\n', '\\n', 'Current Address: Kondapur; Hyderabad\\n', '\\n', 'Permanent Address: Siwan Bihar\\n', '\\n']\n",
    "'''"
   ]
  },
  {
   "cell_type": "code",
   "execution_count": 310,
   "id": "839cd1a0",
   "metadata": {},
   "outputs": [
    {
     "name": "stdout",
     "output_type": "stream",
     "text": [
      "['user_info']\n"
     ]
    }
   ],
   "source": [
    "print(model.predict(fitted_vectorizer.transform([text10])))"
   ]
  },
  {
   "cell_type": "code",
   "execution_count": 311,
   "id": "bae8e2f4",
   "metadata": {},
   "outputs": [],
   "source": [
    "text11 = '''['Educational Qualification\\n', '\\n', 'I completed my B-tech from Jawaharlal Nehru Technological University Ananthapur having percentage\\n', '\\n', 'of 65%.\\n', '\\n']\n",
    "'''"
   ]
  },
  {
   "cell_type": "code",
   "execution_count": 312,
   "id": "3bc2c45f",
   "metadata": {},
   "outputs": [
    {
     "name": "stdout",
     "output_type": "stream",
     "text": [
      "['education']\n"
     ]
    }
   ],
   "source": [
    "print(model.predict(fitted_vectorizer.transform([text11])))"
   ]
  },
  {
   "cell_type": "code",
   "execution_count": 313,
   "id": "9c8b3ba3",
   "metadata": {},
   "outputs": [],
   "source": [
    "text12 = '''['Godavari Institute of Engineering and Technology (GIET)  Rajahmundry; 2007 2011 (70%/)\\n', '\\n']\n",
    "'''"
   ]
  },
  {
   "cell_type": "code",
   "execution_count": 314,
   "id": "f13da368",
   "metadata": {},
   "outputs": [
    {
     "name": "stdout",
     "output_type": "stream",
     "text": [
      "['education']\n"
     ]
    }
   ],
   "source": [
    "print(model.predict(fitted_vectorizer.transform([text12])))"
   ]
  },
  {
   "cell_type": "code",
   "execution_count": 315,
   "id": "182f8561",
   "metadata": {},
   "outputs": [],
   "source": [
    "text13 = '''raju Engineering college, B tech(MECH), raju high school, raju junior college'''"
   ]
  },
  {
   "cell_type": "code",
   "execution_count": 316,
   "id": "dd21dfed",
   "metadata": {},
   "outputs": [
    {
     "name": "stdout",
     "output_type": "stream",
     "text": [
      "['education']\n"
     ]
    }
   ],
   "source": [
    "print(model.predict(fitted_vectorizer.transform([text13])))"
   ]
  },
  {
   "cell_type": "code",
   "execution_count": 472,
   "id": "30484f97",
   "metadata": {},
   "outputs": [],
   "source": [
    "text14 = '''Raju'''"
   ]
  },
  {
   "cell_type": "code",
   "execution_count": 473,
   "id": "49c5f002",
   "metadata": {},
   "outputs": [
    {
     "name": "stdout",
     "output_type": "stream",
     "text": [
      "['user_info']\n"
     ]
    }
   ],
   "source": [
    "print(model.predict(fitted_vectorizer.transform([text14])))"
   ]
  },
  {
   "cell_type": "code",
   "execution_count": null,
   "id": "5ec7e5be",
   "metadata": {},
   "outputs": [],
   "source": []
  },
  {
   "cell_type": "code",
   "execution_count": null,
   "id": "45c891cd",
   "metadata": {},
   "outputs": [],
   "source": []
  },
  {
   "cell_type": "code",
   "execution_count": null,
   "id": "efb2c848",
   "metadata": {},
   "outputs": [],
   "source": []
  },
  {
   "cell_type": "code",
   "execution_count": null,
   "id": "93d709f7",
   "metadata": {},
   "outputs": [],
   "source": []
  },
  {
   "cell_type": "code",
   "execution_count": 197,
   "id": "3e2c8489",
   "metadata": {},
   "outputs": [],
   "source": [
    "#Random Forest"
   ]
  },
  {
   "cell_type": "code",
   "execution_count": 480,
   "id": "c3459a2f",
   "metadata": {},
   "outputs": [],
   "source": [
    "classifier = RandomForestClassifier(n_estimators=500, max_depth=5, random_state=0)\n",
    "model2 = classifier.fit(tfidf_vectorizer_vectors, y_train)"
   ]
  },
  {
   "cell_type": "code",
   "execution_count": 481,
   "id": "04d407a2",
   "metadata": {},
   "outputs": [],
   "source": [
    "text13 = '''raju Engineering college, B tech(MECH), raju high school, raju junior college'''"
   ]
  },
  {
   "cell_type": "code",
   "execution_count": 482,
   "id": "128de6d6",
   "metadata": {},
   "outputs": [
    {
     "name": "stdout",
     "output_type": "stream",
     "text": [
      "['projects']\n"
     ]
    }
   ],
   "source": [
    "print(model2.predict(fitted_vectorizer.transform([text13])))"
   ]
  },
  {
   "cell_type": "code",
   "execution_count": 483,
   "id": "37b73f1c",
   "metadata": {},
   "outputs": [
    {
     "name": "stdout",
     "output_type": "stream",
     "text": [
      "['projects']\n"
     ]
    }
   ],
   "source": [
    "text11 = '''['Educational Qualification\\n', '\\n', 'I completed my B-tech from Jawaharlal Nehru Technological University Ananthapur having percentage\\n', '\\n', 'of 65%.\\n', '\\n']\n",
    "'''\n",
    "\n",
    "print(model2.predict(fitted_vectorizer.transform([text11])))"
   ]
  },
  {
   "cell_type": "code",
   "execution_count": 485,
   "id": "0715b0d5",
   "metadata": {},
   "outputs": [
    {
     "name": "stdout",
     "output_type": "stream",
     "text": [
      "['projects']\n"
     ]
    }
   ],
   "source": [
    "text8 = '''['HARSHAVARDHAN REDDY MULAKA Mail: harshavardhanreddy mulaka. 13@gmail.com Mobile: +91 7032799773\\n', '\\n']\n",
    "'''\n",
    "\n",
    "print(model2.predict(fitted_vectorizer.transform([text8])))"
   ]
  },
  {
   "cell_type": "code",
   "execution_count": 486,
   "id": "38f1a4a3",
   "metadata": {},
   "outputs": [
    {
     "name": "stdout",
     "output_type": "stream",
     "text": [
      "['projects']\n"
     ]
    }
   ],
   "source": [
    "text77 = '9999943672'\n",
    "print(model2.predict(fitted_vectorizer.transform([text77])))"
   ]
  },
  {
   "cell_type": "code",
   "execution_count": null,
   "id": "aaf4c500",
   "metadata": {},
   "outputs": [],
   "source": []
  },
  {
   "cell_type": "code",
   "execution_count": null,
   "id": "40fe0fc5",
   "metadata": {},
   "outputs": [],
   "source": []
  }
 ],
 "metadata": {
  "kernelspec": {
   "display_name": "Python 3 (ipykernel)",
   "language": "python",
   "name": "python3"
  },
  "language_info": {
   "codemirror_mode": {
    "name": "ipython",
    "version": 3
   },
   "file_extension": ".py",
   "mimetype": "text/x-python",
   "name": "python",
   "nbconvert_exporter": "python",
   "pygments_lexer": "ipython3",
   "version": "3.9.7"
  }
 },
 "nbformat": 4,
 "nbformat_minor": 5
}
