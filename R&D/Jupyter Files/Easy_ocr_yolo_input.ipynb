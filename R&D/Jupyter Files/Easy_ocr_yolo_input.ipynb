{
  "cells": [
    {
      "cell_type": "code",
      "execution_count": null,
      "metadata": {
        "id": "YEU8tihrhkqt",
        "colab": {
          "base_uri": "https://localhost:8080/"
        },
        "outputId": "c7d8a140-abea-43b5-a230-05b5a05d3106"
      },
      "outputs": [
        {
          "output_type": "stream",
          "name": "stdout",
          "text": [
            "Drive already mounted at /content/drive; to attempt to forcibly remount, call drive.mount(\"/content/drive\", force_remount=True).\n"
          ]
        }
      ],
      "source": [
        "from google.colab import drive\n",
        "drive.mount('/content/drive')\n"
      ]
    },
    {
      "cell_type": "code",
      "execution_count": null,
      "metadata": {
        "id": "p1RKhoJ8OhLE"
      },
      "outputs": [],
      "source": [
        "\n",
        "!pip install deeplabcut"
      ]
    },
    {
      "cell_type": "code",
      "execution_count": null,
      "metadata": {
        "id": "c2sfWJ8tDN3R",
        "colab": {
          "base_uri": "https://localhost:8080/"
        },
        "outputId": "709c2c91-39c7-4e7f-c5fc-0833cec1f9e3"
      },
      "outputs": [
        {
          "output_type": "stream",
          "name": "stdout",
          "text": [
            "Requirement already satisfied: easyocr in /usr/local/lib/python3.7/dist-packages (1.4.2)\n"
          ]
        }
      ],
      "source": [
        "\n",
        "!pip install easyocr --no-deps"
      ]
    },
    {
      "cell_type": "code",
      "execution_count": null,
      "metadata": {
        "id": "go2SkWISOwGy",
        "colab": {
          "base_uri": "https://localhost:8080/"
        },
        "outputId": "0697e9d6-ba21-42f6-d53e-6a6d06298979"
      },
      "outputs": [
        {
          "output_type": "stream",
          "name": "stdout",
          "text": [
            "Requirement already satisfied: python-bidi in /usr/local/lib/python3.7/dist-packages (0.4.2)\n",
            "Requirement already satisfied: six in /usr/local/lib/python3.7/dist-packages (from python-bidi) (1.15.0)\n"
          ]
        }
      ],
      "source": [
        "\n",
        "!pip install python-bidi"
      ]
    },
    {
      "cell_type": "code",
      "execution_count": null,
      "metadata": {
        "id": "aBjWQOYShv43"
      },
      "outputs": [],
      "source": [
        "#import libraries\n",
        "import os\n",
        "import easyocr\n",
        "import numpy as np\n",
        "from os import listdir\n",
        "from pathlib import Path"
      ]
    },
    {
      "cell_type": "code",
      "execution_count": null,
      "metadata": {
        "id": "swqvq4G_k0hZ"
      },
      "outputs": [],
      "source": [
        "#load model\n",
        "reader = easyocr.Reader(['en'])"
      ]
    },
    {
      "cell_type": "code",
      "source": [
        "def write_to_file(OUT_DIR, names, results_files):\n",
        "    out_file_path = os.path.join(OUT_DIR, names,names+'.txt' )\n",
        "    if not(os.path.exists(os.path.join(OUT_DIR, names))):\n",
        "        os.makedirs(os.path.join(OUT_DIR, names))\n",
        "    with open(out_file_path, 'w+') as f:\n",
        "        for line in results_files:\n",
        "            #space = \\n\n",
        "            f.writelines(str(line)+ \"   \\n\")\n",
        "    f.close()\n",
        "    print(f\"file save to {out_file_path} \")\n",
        "\n",
        "MAIN_DIR = \"/content/drive/MyDrive/OCR11/1\"\n",
        "OUT_DIR = \"/content/drive/MyDrive/OCR11/output\"\n",
        "\n",
        "#load model\n",
        "#reader = easyocr.Reader(['en'])\n",
        "\n",
        "for names in os.listdir(MAIN_DIR):\n",
        "    results_files = []\n",
        "    for image in os.listdir(os.path.join(MAIN_DIR, names, \"text_box\")):\n",
        "        image_path = os.path.join(MAIN_DIR, names, \"text_box\", image)\n",
        "        results = reader.readtext(image=image_path, paragraph = True, detail = 0)\n",
        "        results_files.append(results)\n",
        "    write_to_file(OUT_DIR, names, results_files)"
      ],
      "metadata": {
        "id": "PmLvNJSet-gU"
      },
      "execution_count": null,
      "outputs": []
    },
    {
      "cell_type": "code",
      "source": [
        ""
      ],
      "metadata": {
        "id": "RlpAMPagt-oB"
      },
      "execution_count": null,
      "outputs": []
    },
    {
      "cell_type": "code",
      "source": [
        ""
      ],
      "metadata": {
        "id": "rE2YSNO-rEBF"
      },
      "execution_count": null,
      "outputs": []
    },
    {
      "cell_type": "code",
      "source": [
        ""
      ],
      "metadata": {
        "id": "kp9x_4ykrEDy"
      },
      "execution_count": null,
      "outputs": []
    },
    {
      "cell_type": "code",
      "source": [
        ""
      ],
      "metadata": {
        "id": "QP9vsZ9KrEGL"
      },
      "execution_count": null,
      "outputs": []
    },
    {
      "cell_type": "code",
      "source": [
        ""
      ],
      "metadata": {
        "id": "BqRtFoQdrEIb"
      },
      "execution_count": null,
      "outputs": []
    }
  ],
  "metadata": {
    "accelerator": "GPU",
    "colab": {
      "collapsed_sections": [],
      "name": "Easy_ocr_yolo_input.ipynb",
      "provenance": []
    },
    "kernelspec": {
      "display_name": "Python 3",
      "name": "python3"
    },
    "language_info": {
      "name": "python"
    }
  },
  "nbformat": 4,
  "nbformat_minor": 0
}