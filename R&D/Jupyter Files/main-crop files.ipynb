{
 "cells": [
  {
   "cell_type": "code",
   "execution_count": 1,
   "id": "703a85fe",
   "metadata": {},
   "outputs": [],
   "source": [
    "import shutil\n",
    "import os\n",
    "import re\n",
    "from shutil import copyfile"
   ]
  },
  {
   "cell_type": "code",
   "execution_count": 2,
   "id": "e7c21618",
   "metadata": {},
   "outputs": [],
   "source": [
    "direc=r'C:\\Users\\anilkumar.maddikunta\\Desktop\\prescreening resumes'\n",
    "img_path='\\images'\n",
    "main_img_path=direc+img_path"
   ]
  },
  {
   "cell_type": "code",
   "execution_count": 3,
   "id": "5f99a3e5",
   "metadata": {},
   "outputs": [],
   "source": [
    "main_file_names = os.listdir(main_img_path)\n",
    "\n",
    "all_names=[]\n",
    "for file_name in main_file_names:\n",
    "    name=re.search(r'-(.*?).jpg', file_name).group(1)[:-2]\n",
    "    all_names.append(name)    "
   ]
  },
  {
   "cell_type": "code",
   "execution_count": 4,
   "id": "92c97d18",
   "metadata": {},
   "outputs": [
    {
     "name": "stdout",
     "output_type": "stream",
     "text": [
      "C:\\Users\\anilkumar.maddikunta\\Desktop\\prescreening resumes\\main-crop\n"
     ]
    }
   ],
   "source": [
    "new_direc_path = direc+'\\main-crop'\n",
    "print(new_direc_path)"
   ]
  },
  {
   "cell_type": "code",
   "execution_count": 5,
   "id": "0f628fc6",
   "metadata": {},
   "outputs": [],
   "source": [
    "new_direc_path = direc+'\\main-crop'\n",
    "\n",
    "try:\n",
    "    os.mkdir(new_direc_path)\n",
    "except OSError:\n",
    "    pass\n",
    "else:\n",
    "    pass\n",
    "\n",
    "for name in all_names:\n",
    "    \n",
    "    name_path='\\\\'+name\n",
    "    new_name_path = new_direc_path + name_path\n",
    "    try:\n",
    "        os.mkdir(new_name_path)\n",
    "    except OSError:\n",
    "        pass\n",
    "    else:\n",
    "        pass\n",
    "    \n",
    "    os.chdir(new_name_path)\n",
    "    for file_name in main_file_names:\n",
    "        name_=re.search(r'-(.*?).jpg', file_name).group(1)[:-2]\n",
    "        \n",
    "        if name==name_:\n",
    "            shutil.copy(os.path.join(main_img_path, file_name), new_name_path)\n",
    "    "
   ]
  }
 ],
 "metadata": {
  "kernelspec": {
   "display_name": "Python 3 (ipykernel)",
   "language": "python",
   "name": "python3"
  },
  "language_info": {
   "codemirror_mode": {
    "name": "ipython",
    "version": 3
   },
   "file_extension": ".py",
   "mimetype": "text/x-python",
   "name": "python",
   "nbconvert_exporter": "python",
   "pygments_lexer": "ipython3",
   "version": "3.8.12"
  }
 },
 "nbformat": 4,
 "nbformat_minor": 5
}
