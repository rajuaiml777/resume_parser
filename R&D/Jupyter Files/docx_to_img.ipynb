{
 "cells": [
  {
   "cell_type": "code",
   "execution_count": 1,
   "id": "f4589d5c",
   "metadata": {},
   "outputs": [],
   "source": [
    "# !pip install --upgrade convertapi"
   ]
  },
  {
   "cell_type": "code",
   "execution_count": 1,
   "id": "c3f73880",
   "metadata": {},
   "outputs": [],
   "source": [
    "import convertapi"
   ]
  },
  {
   "cell_type": "code",
   "execution_count": 2,
   "id": "19e67503",
   "metadata": {},
   "outputs": [],
   "source": [
    "convertapi.api_secret = 'ML26JLJxyxDEtkhy'"
   ]
  },
  {
   "cell_type": "code",
   "execution_count": 4,
   "id": "e308cb43",
   "metadata": {},
   "outputs": [
    {
     "data": {
      "text/plain": [
       "['outputs\\\\BuchhibabuRachakonda.jpg', 'outputs\\\\BuchhibabuRachakonda-2.jpg']"
      ]
     },
     "execution_count": 4,
     "metadata": {},
     "output_type": "execute_result"
    }
   ],
   "source": [
    "result = convertapi.convert('jpg', { 'File': r'C:\\Users\\manikantar\\Downloads\\BuchhibabuRachakonda.docx' })\n",
    "\n",
    "# save to file\n",
    "result.save_files('outputs')"
   ]
  },
  {
   "cell_type": "code",
   "execution_count": null,
   "id": "1d9d1f52",
   "metadata": {},
   "outputs": [],
   "source": []
  }
 ],
 "metadata": {
  "kernelspec": {
   "display_name": "Python 3 (ipykernel)",
   "language": "python",
   "name": "python3"
  },
  "language_info": {
   "codemirror_mode": {
    "name": "ipython",
    "version": 3
   },
   "file_extension": ".py",
   "mimetype": "text/x-python",
   "name": "python",
   "nbconvert_exporter": "python",
   "pygments_lexer": "ipython3",
   "version": "3.8.12"
  }
 },
 "nbformat": 4,
 "nbformat_minor": 5
}
