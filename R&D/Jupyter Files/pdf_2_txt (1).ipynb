{
 "cells": [
  {
   "cell_type": "code",
   "execution_count": null,
   "id": "83db2e30",
   "metadata": {},
   "outputs": [],
   "source": [
    "!pip install pdfplumber"
   ]
  },
  {
   "cell_type": "code",
   "execution_count": null,
   "id": "36ce60ec",
   "metadata": {},
   "outputs": [],
   "source": [
    "import pandas as pd\n",
    "import pdfplumber\n",
    "import os\n",
    "import regex as re"
   ]
  },
  {
   "cell_type": "code",
   "execution_count": null,
   "id": "fe894a74",
   "metadata": {},
   "outputs": [],
   "source": [
    "directory = 'G:/PreScreening/New folder/'\n",
    "sub_diectory = 'G:/PreScreening/New folder/'\n",
    "# final_directory = 'F:/projects/RR/Datasets/data_folder/txt2txt_files/'\n",
    "# csv_directory = 'F:/projects/RR/Datasets/data_folder/txt2_csv_files/'"
   ]
  },
  {
   "cell_type": "code",
   "execution_count": null,
   "id": "dffc52db",
   "metadata": {},
   "outputs": [],
   "source": [
    "for filename in os.listdir(directory):\n",
    "    if filename.endswith('.pdf'):\n",
    "        fullpath = os.path.join(directory, filename) \n",
    "        name = fullpath.split('.')\n",
    "        filename = name[0].split('/')\n",
    "#         print(filename[-1])\n",
    "        filename = filename[-1]+\".txt\"\n",
    "        file_path = sub_diectory+filename\n",
    "        print(file_path)\n",
    "        with open(file_path, \"w\", encoding=\"utf-8\") as fp:\n",
    "            with pdfplumber.open(fullpath) as pdf:\n",
    "                for page in pdf.pages:\n",
    "                    text = page.extract_text()\n",
    "                    fp.write(text)\n",
    "                fp.write(\"\\n\")\n",
    "                fp.write(\"End Of Resume\")\n",
    "                fp.close()"
   ]
  },
  {
   "cell_type": "code",
   "execution_count": null,
   "id": "63d0a2d4",
   "metadata": {},
   "outputs": [],
   "source": [
    "import pandas as pd"
   ]
  },
  {
   "cell_type": "code",
   "execution_count": null,
   "id": "e6263292",
   "metadata": {},
   "outputs": [],
   "source": [
    "d1=pd.read_excel(r'C:\\Users\\manikantar\\Downloads\\professional_summary (1).xlsx')"
   ]
  },
  {
   "cell_type": "code",
   "execution_count": null,
   "id": "35a3a4c4",
   "metadata": {},
   "outputs": [],
   "source": [
    "d1.to_csv(r'C:\\Users\\manikantar\\Downloads\\12.csv',index=False)"
   ]
  },
  {
   "cell_type": "markdown",
   "id": "b365421d",
   "metadata": {},
   "source": [
    "Doc to Docx Coversion"
   ]
  },
  {
   "cell_type": "code",
   "execution_count": 1,
   "id": "65a62989",
   "metadata": {},
   "outputs": [],
   "source": [
    "from glob import glob\n",
    "import re\n",
    "import os\n",
    "import win32com.client as win32\n",
    "from win32com.client import constants"
   ]
  },
  {
   "cell_type": "code",
   "execution_count": 14,
   "id": "7b860743",
   "metadata": {},
   "outputs": [],
   "source": [
    "# Create list of paths to .doc files\n",
    "paths = glob(r'C:\\\\Users\\\\manikantar\\\\Downloads\\\\BA_BRD*.doc', recursive=True)\n",
    "\n",
    "def save_as_docx(path):\n",
    "    # Opening MS Word\n",
    "    word = win32.gencache.EnsureDispatch('Word.Application')\n",
    "    doc = word.Documents.Open(path)\n",
    "    doc.Activate ()\n",
    "\n",
    "    # Rename path with .docx\n",
    "    new_file_abs = os.path.abspath(path)\n",
    "    new_file_abs = re.sub(r'\\.\\w+$', '.docx', new_file_abs)\n",
    "\n",
    "    # Save and Close\n",
    "    word.ActiveDocument.SaveAs(\n",
    "        new_file_abs, FileFormat=constants.wdFormatXMLDocument\n",
    "    )\n",
    "    doc.Close(False)\n",
    "for path in paths:\n",
    "    save_as_docx(path)"
   ]
  },
  {
   "cell_type": "code",
   "execution_count": 12,
   "id": "8c3dd173",
   "metadata": {},
   "outputs": [],
   "source": []
  },
  {
   "cell_type": "code",
   "execution_count": 1,
   "id": "c90de068",
   "metadata": {},
   "outputs": [
    {
     "name": "stdout",
     "output_type": "stream",
     "text": [
      "{\"error\":{\"details\":\"Unauthorized\",\"requestId\":\"FuOIW5SH3r8ibx8ABzUS\",\"status\":401,\"supportUrl\":\"https://pspdfkit.com/api/support/\"}}\n"
     ]
    }
   ],
   "source": [
    "import requests\n",
    "import json\n",
    "\n",
    "instructions = {\n",
    "  'parts': [\n",
    "    {\n",
    "      'file': 'document'\n",
    "    }\n",
    "  ],\n",
    "  'output': {\n",
    "    'type': 'image',\n",
    "    'format': 'jpg',\n",
    "    'dpi': 500\n",
    "  }\n",
    "}\n",
    "\n",
    "response = requests.request(\n",
    "  'POST',\n",
    "  'https://api.pspdfkit.com/build',\n",
    "  headers = {\n",
    "    'Authorization': 'Bearer your_api_key_here'\n",
    "  },\n",
    "  files = {\n",
    "    'document': open(r'C:\\Users\\manikantar\\Downloads\\files\\BA_BRD.doc', 'rb')\n",
    "  },\n",
    "  data = {\n",
    "    'instructions': json.dumps(instructions)\n",
    "  },\n",
    "  stream = True\n",
    ")\n",
    "\n",
    "if response.ok:\n",
    "  with open('image.jpg', 'wb') as fd:\n",
    "    for chunk in response.iter_content(chunk_size=8096):\n",
    "      fd.write(chunk)\n",
    "else:\n",
    "  print(response.text)\n",
    "  exit()"
   ]
  },
  {
   "cell_type": "code",
   "execution_count": null,
   "id": "9ad635d3",
   "metadata": {},
   "outputs": [],
   "source": []
  }
 ],
 "metadata": {
  "kernelspec": {
   "display_name": "Python 3 (ipykernel)",
   "language": "python",
   "name": "python3"
  },
  "language_info": {
   "codemirror_mode": {
    "name": "ipython",
    "version": 3
   },
   "file_extension": ".py",
   "mimetype": "text/x-python",
   "name": "python",
   "nbconvert_exporter": "python",
   "pygments_lexer": "ipython3",
   "version": "3.8.12"
  }
 },
 "nbformat": 4,
 "nbformat_minor": 5
}
