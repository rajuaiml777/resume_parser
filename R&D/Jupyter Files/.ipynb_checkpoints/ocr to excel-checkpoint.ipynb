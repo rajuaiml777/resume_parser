{
 "cells": [
  {
   "cell_type": "code",
   "execution_count": 1,
   "id": "b4e7582a",
   "metadata": {},
   "outputs": [],
   "source": [
    "import pandas as pd\n",
    "import shutil\n",
    "import os\n",
    "import re\n",
    "from shutil import copyfile"
   ]
  },
  {
   "cell_type": "code",
   "execution_count": 16,
   "id": "7603dabb",
   "metadata": {},
   "outputs": [
    {
     "name": "stdout",
     "output_type": "stream",
     "text": [
      "C:\\Users\\anilkumar.maddikunta\\Downloads\\output6\\fdbe9035-Naukri_MadanShivasetty9y_0m\n",
      "C:\\Users\\anilkumar.maddikunta\\Downloads\\output6\\fdefde8a-Naukri_SravanKumar8y_0m\n",
      "C:\\Users\\anilkumar.maddikunta\\Downloads\\output6\\febf63e5-Naukri_SrinuJegurupati5y_1m\n",
      "C:\\Users\\anilkumar.maddikunta\\Downloads\\output6\\fef03566-Naukri_AnkurShukla6y_0m\n",
      "C:\\Users\\anilkumar.maddikunta\\Downloads\\output6\\ff41ad38-Naukri_KARRIKUMAR15y_0m\n",
      "C:\\Users\\anilkumar.maddikunta\\Downloads\\output6\\ff942019-RavulaPriyanka6_0\n",
      "C:\\Users\\anilkumar.maddikunta\\Downloads\\output6\\ffccd882-Naukri_ShaikAbdulKhadarJilani4y_0m_1_page-00\n"
     ]
    }
   ],
   "source": [
    "main_path=r'C:\\Users\\anilkumar.maddikunta\\Downloads\\output6'\n",
    "\n",
    "folders=os.listdir(main_path)\n",
    "\n",
    "df=pd.DataFrame(columns=['text'])\n",
    "for folder in folders:\n",
    "    folder_path=main_path+'\\\\'+folder\n",
    "    print(folder_path)\n",
    "    for file in os.listdir(folder_path):\n",
    "        file_path=folder_path+'\\\\'+file\n",
    "        with open(file_path) as f:\n",
    "            lines = f.readlines()\n",
    "        d={'text':lines[0]}\n",
    "        df=df.append(d,ignore_index=Tru"
   ]
  },
  {
   "cell_type": "code",
   "execution_count": 17,
   "id": "e963e10b",
   "metadata": {},
   "outputs": [
    {
     "data": {
      "text/html": [
       "<div>\n",
       "<style scoped>\n",
       "    .dataframe tbody tr th:only-of-type {\n",
       "        vertical-align: middle;\n",
       "    }\n",
       "\n",
       "    .dataframe tbody tr th {\n",
       "        vertical-align: top;\n",
       "    }\n",
       "\n",
       "    .dataframe thead th {\n",
       "        text-align: right;\n",
       "    }\n",
       "</style>\n",
       "<table border=\"1\" class=\"dataframe\">\n",
       "  <thead>\n",
       "    <tr style=\"text-align: right;\">\n",
       "      <th></th>\n",
       "      <th>text</th>\n",
       "    </tr>\n",
       "  </thead>\n",
       "  <tbody>\n",
       "    <tr>\n",
       "      <th>0</th>\n",
       "      <td>CAPABILITIES: Adobe Photoshop Flash, Illustrat...</td>\n",
       "    </tr>\n",
       "    <tr>\n",
       "      <th>1</th>\n",
       "      <td>OBJECTIVE: Utilize my skill set and knowledge ...</td>\n",
       "    </tr>\n",
       "    <tr>\n",
       "      <th>2</th>\n",
       "      <td>PROFESSIONALSUMMARX:\\n</td>\n",
       "    </tr>\n",
       "    <tr>\n",
       "      <th>3</th>\n",
       "      <td>Here am sharing YouTube link for my Intro Anim...</td>\n",
       "    </tr>\n",
       "    <tr>\n",
       "      <th>4</th>\n",
       "      <td>PROFESSIONAL EXPERIENCE: Next Education India ...</td>\n",
       "    </tr>\n",
       "    <tr>\n",
       "      <th>...</th>\n",
       "      <td>...</td>\n",
       "    </tr>\n",
       "    <tr>\n",
       "      <th>96</th>\n",
       "      <td>Project Description-1\\n</td>\n",
       "    </tr>\n",
       "    <tr>\n",
       "      <th>97</th>\n",
       "      <td>Project Description-4\\n</td>\n",
       "    </tr>\n",
       "    <tr>\n",
       "      <th>98</th>\n",
       "      <td>STRENGTHS:\\n</td>\n",
       "    </tr>\n",
       "    <tr>\n",
       "      <th>99</th>\n",
       "      <td>TECHNICAL SKILLS: Programming Language Operati...</td>\n",
       "    </tr>\n",
       "    <tr>\n",
       "      <th>100</th>\n",
       "      <td>CAREER PROFILE: Worked as Software Engineer in...</td>\n",
       "    </tr>\n",
       "  </tbody>\n",
       "</table>\n",
       "<p>101 rows × 1 columns</p>\n",
       "</div>"
      ],
      "text/plain": [
       "                                                  text\n",
       "0    CAPABILITIES: Adobe Photoshop Flash, Illustrat...\n",
       "1    OBJECTIVE: Utilize my skill set and knowledge ...\n",
       "2                               PROFESSIONALSUMMARX:\\n\n",
       "3    Here am sharing YouTube link for my Intro Anim...\n",
       "4    PROFESSIONAL EXPERIENCE: Next Education India ...\n",
       "..                                                 ...\n",
       "96                             Project Description-1\\n\n",
       "97                             Project Description-4\\n\n",
       "98                                        STRENGTHS:\\n\n",
       "99   TECHNICAL SKILLS: Programming Language Operati...\n",
       "100  CAREER PROFILE: Worked as Software Engineer in...\n",
       "\n",
       "[101 rows x 1 columns]"
      ]
     },
     "execution_count": 17,
     "metadata": {},
     "output_type": "execute_result"
    }
   ],
   "source": [
    "df"
   ]
  },
  {
   "cell_type": "code",
   "execution_count": 5,
   "id": "02bc355d",
   "metadata": {},
   "outputs": [],
   "source": []
  }
 ],
 "metadata": {
  "kernelspec": {
   "display_name": "Python 3 (ipykernel)",
   "language": "python",
   "name": "python3"
  },
  "language_info": {
   "codemirror_mode": {
    "name": "ipython",
    "version": 3
   },
   "file_extension": ".py",
   "mimetype": "text/x-python",
   "name": "python",
   "nbconvert_exporter": "python",
   "pygments_lexer": "ipython3",
   "version": "3.8.12"
  }
 },
 "nbformat": 4,
 "nbformat_minor": 5
}
