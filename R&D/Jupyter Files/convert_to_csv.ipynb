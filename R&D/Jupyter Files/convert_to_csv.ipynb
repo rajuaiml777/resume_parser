{
 "cells": [
  {
   "cell_type": "code",
   "execution_count": 1,
   "id": "94a18ef2",
   "metadata": {},
   "outputs": [],
   "source": [
    "import pandas as pd\n",
    "import glob\n",
    "import re\n",
    "%pwd\n",
    "import json"
   ]
  },
  {
   "cell_type": "code",
   "execution_count": 2,
   "id": "92156ab3",
   "metadata": {},
   "outputs": [],
   "source": [
    "path = 'G:/PreScreening/New folder/*.txt'"
   ]
  },
  {
   "cell_type": "code",
   "execution_count": 3,
   "id": "5e31d146",
   "metadata": {},
   "outputs": [],
   "source": [
    "files = glob.glob(path)"
   ]
  },
  {
   "cell_type": "code",
   "execution_count": 4,
   "id": "124579ae",
   "metadata": {},
   "outputs": [],
   "source": [
    "texts = []\n",
    "for file in files:\n",
    "    with open(file, \"r\",encoding='utf-8') as fp:\n",
    "        text = ''.join(fp.readlines())\n",
    "        texts.append(text)"
   ]
  },
  {
   "cell_type": "code",
   "execution_count": 5,
   "id": "5019c1c3",
   "metadata": {},
   "outputs": [],
   "source": [
    "pd.DataFrame(texts,columns=['texts']).to_csv(\"resume_basic_data.csv\",index=False)"
   ]
  },
  {
   "cell_type": "code",
   "execution_count": 6,
   "id": "fc2b026a",
   "metadata": {},
   "outputs": [],
   "source": [
    "df = pd.read_csv('resume_basic_data.csv')"
   ]
  },
  {
   "cell_type": "code",
   "execution_count": 8,
   "id": "1ea60a25",
   "metadata": {},
   "outputs": [],
   "source": [
    "df.to_csv('resume_basic_data1.csv')"
   ]
  },
  {
   "cell_type": "markdown",
   "id": "c5b6b231",
   "metadata": {},
   "source": [
    "Docx to txt convertion"
   ]
  },
  {
   "cell_type": "code",
   "execution_count": 22,
   "id": "49062572",
   "metadata": {},
   "outputs": [],
   "source": [
    "import os\n",
    "import uuid\n",
    "import textract"
   ]
  },
  {
   "cell_type": "code",
   "execution_count": 73,
   "id": "bbae6bfe",
   "metadata": {},
   "outputs": [],
   "source": [
    "training_directory = os.path.join(os.getcwd(), 'G:/PreScreening/ewfs/')"
   ]
  },
  {
   "cell_type": "code",
   "execution_count": 55,
   "id": "fee22b2d",
   "metadata": {},
   "outputs": [],
   "source": [
    "for process_file in  os.listdir(source_directory):\n",
    "    file, extension = os.path.splitext(process_file)\n",
    "    \n",
    "    # We create a new text file name by concatenating the .txt extension to file UUID\n",
    "    dest_file_path = file + '.txt'\n",
    "    \n",
    "    #extract text from the file\n",
    "    content = textract.process(os.path.join(source_directory, process_file))\n",
    "    \n",
    "    # We create and open the new and we prepare to write the Binary Data which is represented by the wb - Write Binary\n",
    "    write_text_file = open(os.path.join(training_directory, \"G:/PreScreening/ewfs/txt\"), \"wb\")\n",
    "    \n",
    "    #write the content and close the newly created file\n",
    "    write_text_file.write(content)\n",
    "    write_text_file.close()"
   ]
  },
  {
   "cell_type": "code",
   "execution_count": 61,
   "id": "1e1edbd1",
   "metadata": {},
   "outputs": [],
   "source": [
    "# creating a pdf file object \n",
    "pdfFileObj = open(r'C:\\Users\\manikantar\\Downloads\\AnilSahoo[2_2].pdf', 'rb') \n",
    "    \n",
    "# creating a pdf reader object \n",
    "pdfReader = PyPDF2.PdfFileReader(pdfFileObj) \n",
    "\n",
    "# print(pdfReader)\n",
    "# printing number of pages in pdf file \n",
    "print(pdfReader.numPages)\n",
    "    \n",
    "# # creating a page object\n",
    "i=0\n",
    "for i in range(0, pdfReader.numPages):\n",
    "    pageObj = pdfReader.getPage(i)\n",
    "    i=i+1\n",
    "    \n",
    "# # extracting text from page \n",
    "    print(pageObj.extractText())\n",
    "    \n",
    "# # closing the pdf file object \n",
    "pdfFileObj.close()"
   ]
  },
  {
   "cell_type": "markdown",
   "id": "95dc25e6",
   "metadata": {},
   "source": [
    "Doc to Docx Coversion"
   ]
  },
  {
   "cell_type": "code",
   "execution_count": null,
   "id": "2142de63",
   "metadata": {},
   "outputs": [],
   "source": [
    "from glob import glob\n",
    "import re\n",
    "import os\n",
    "import win32com.client as win32\n",
    "from win32com.client import constants"
   ]
  },
  {
   "cell_type": "code",
   "execution_count": null,
   "id": "0bc65d54",
   "metadata": {},
   "outputs": [],
   "source": [
    "# Create list of paths to .doc files\n",
    "paths = glob(r'C:\\\\Users\\\\manikantar\\\\Downloads\\\\BA_BRD*.doc', recursive=True)\n",
    "\n",
    "def save_as_docx(path):\n",
    "    # Opening MS Word\n",
    "    word = win32.gencache.EnsureDispatch('Word.Application')\n",
    "    doc = word.Documents.Open(path)\n",
    "    doc.Activate ()\n",
    "\n",
    "    # Rename path with .docx\n",
    "    new_file_abs = os.path.abspath(path)\n",
    "    new_file_abs = re.sub(r'\\.\\w+$', '.docx', new_file_abs)\n",
    "\n",
    "    # Save and Close\n",
    "    word.ActiveDocument.SaveAs(\n",
    "        new_file_abs, FileFormat=constants.wdFormatXMLDocument\n",
    "    )\n",
    "    doc.Close(False)\n",
    "for path in paths:\n",
    "    save_as_docx(path)"
   ]
  },
  {
   "cell_type": "code",
   "execution_count": null,
   "id": "055a07f6",
   "metadata": {},
   "outputs": [],
   "source": []
  }
 ],
 "metadata": {
  "kernelspec": {
   "display_name": "Python 3 (ipykernel)",
   "language": "python",
   "name": "python3"
  },
  "language_info": {
   "codemirror_mode": {
    "name": "ipython",
    "version": 3
   },
   "file_extension": ".py",
   "mimetype": "text/x-python",
   "name": "python",
   "nbconvert_exporter": "python",
   "pygments_lexer": "ipython3",
   "version": "3.8.12"
  }
 },
 "nbformat": 4,
 "nbformat_minor": 5
}
